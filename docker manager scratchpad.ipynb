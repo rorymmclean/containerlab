{
 "cells": [
  {
   "cell_type": "markdown",
   "id": "historic-democracy",
   "metadata": {},
   "source": [
    "# Setup Steps"
   ]
  },
  {
   "cell_type": "code",
   "execution_count": 1,
   "id": "unlimited-buddy",
   "metadata": {
    "ExecuteTime": {
     "end_time": "2021-03-03T14:31:48.204578Z",
     "start_time": "2021-03-03T14:31:48.055018Z"
    }
   },
   "outputs": [],
   "source": [
    "import docker\n",
    "import sqlite3\n",
    "client = docker.from_env()\n",
    "conn = sqlite3.connect('dockermgr.db')"
   ]
  },
  {
   "cell_type": "markdown",
   "id": "closed-lawrence",
   "metadata": {},
   "source": [
    "# Menu Steps"
   ]
  },
  {
   "cell_type": "code",
   "execution_count": null,
   "id": "turkish-heath",
   "metadata": {},
   "outputs": [],
   "source": [
    "conn.execute('''CREATE TABLE APPS\n",
    "         (ID CHAR(10) PRIMARY KEY,\n",
    "         APPNAME        TEXT    NOT NULL,\n",
    "         DEFAULT_DUR    INT     NOT NULL,\n",
    "         NBR_PORTS      INT    NOT NULL,\n",
    "         MESSAGE        TEXT NOT NULL);''')"
   ]
  },
  {
   "cell_type": "code",
   "execution_count": 51,
   "id": "quality-italic",
   "metadata": {
    "ExecuteTime": {
     "end_time": "2021-02-26T23:28:32.271899Z",
     "start_time": "2021-02-26T23:28:32.267908Z"
    }
   },
   "outputs": [],
   "source": [
    "conn.execute(\"INSERT INTO APPS (ID,APPNAME,DEFAULT_DUR,STARTUP) \\\n",
    "      VALUES (null, 'MongoDB', 60, 'docker run -it -d -P --name mongodb mongodb:latest ')\")\n",
    "conn.commit()"
   ]
  },
  {
   "cell_type": "code",
   "execution_count": 52,
   "id": "hydraulic-right",
   "metadata": {
    "ExecuteTime": {
     "end_time": "2021-02-26T23:28:37.122394Z",
     "start_time": "2021-02-26T23:28:37.117634Z"
    }
   },
   "outputs": [
    {
     "name": "stdout",
     "output_type": "stream",
     "text": [
      "ID =  1\n",
      "Application =  NGINX\n",
      "Duration =  60\n",
      "Command =  docker run -it -d --name nginx -P nginx:latest \n",
      "\n",
      "ID =  2\n",
      "Application =  MongoDB\n",
      "Duration =  60\n",
      "Command =  docker run -it -d -P --name mongodb mongodb:latest  \n",
      "\n"
     ]
    }
   ],
   "source": [
    "app_cursor = conn.execute(\"SELECT id, appname, default_dur, startup from APPS\")\n",
    "for row in app_cursor:\n",
    "   print (\"ID = \", row[0])\n",
    "   print (\"Application = \", row[1])\n",
    "   print (\"Duration = \", row[2])\n",
    "   print (\"Command = \", row[3], \"\\n\")"
   ]
  },
  {
   "cell_type": "code",
   "execution_count": null,
   "id": "important-protest",
   "metadata": {},
   "outputs": [],
   "source": []
  },
  {
   "cell_type": "markdown",
   "id": "considerable-hurricane",
   "metadata": {},
   "source": [
    "# List Containers"
   ]
  },
  {
   "cell_type": "code",
   "execution_count": 64,
   "id": "solved-calibration",
   "metadata": {
    "ExecuteTime": {
     "end_time": "2021-03-03T02:00:25.688233Z",
     "start_time": "2021-03-03T02:00:25.636268Z"
    }
   },
   "outputs": [
    {
     "name": "stdout",
     "output_type": "stream",
     "text": [
      "3457bb09d9\n",
      "Name = MongoExpress-LAB01K9TB\n",
      "Image = mongo-express\n",
      "Port = 55002\n",
      "55002\n",
      "fcb2da1d7c\n",
      "Name = Mongo-LAB01K9TB\n",
      "Image = poc2opslabs/lab01:latest\n",
      "Port = 55001\n",
      "55001\n",
      "aa4604cf7f\n",
      "Name = here\n",
      "Image = nginx\n",
      "Port = 55000\n",
      "55000\n",
      "55002\n",
      "55001\n",
      "55000\n",
      "N 59305\n"
     ]
    }
   ],
   "source": [
    "import pprint\n",
    "import random\n",
    "pp = pprint.PrettyPrinter(indent=2)\n",
    "\n",
    "cont_curr = client.containers.list()\n",
    "for row in cont_curr:\n",
    "#    print(row)\n",
    "    print(str(row)[12:-1])\n",
    "    container = client.containers.get(str(row)[12:-1])\n",
    "#    pp.pprint(container.attrs)\n",
    "    print('Name =',container.attrs['Name'][1:])\n",
    "    print('Image =',container.attrs['Config']['Image'])\n",
    "    ports = container.attrs['NetworkSettings']['Ports']\n",
    "    print('Port =', ports[list(ports.keys())[0]][0][\"HostPort\"])\n",
    "    print(ports[list(ports.keys())[0]][0][\"HostPort\"])\n",
    "    \n"
   ]
  },
  {
   "cell_type": "code",
   "execution_count": 66,
   "id": "outside-coral",
   "metadata": {
    "ExecuteTime": {
     "end_time": "2021-03-03T02:02:21.846548Z",
     "start_time": "2021-03-03T02:02:21.842112Z"
    }
   },
   "outputs": [],
   "source": [
    "def check_port(a):\n",
    "    checkflag = 'Y'\n",
    "    cont_curr = client.containers.list()\n",
    "    for row in cont_curr:\n",
    "        container = client.containers.get(str(row)[12:-1])\n",
    "        ports = container.attrs['NetworkSettings']['Ports']\n",
    "        portstr = ports[list(ports.keys())[0]][0][\"HostPort\"]\n",
    "        if portstr == str(yy):\n",
    "            checkflag='N'  \n",
    "    return checkflag"
   ]
  },
  {
   "cell_type": "code",
   "execution_count": 71,
   "id": "magnetic-booking",
   "metadata": {
    "ExecuteTime": {
     "end_time": "2021-03-03T02:03:29.561061Z",
     "start_time": "2021-03-03T02:03:29.528968Z"
    }
   },
   "outputs": [
    {
     "name": "stdout",
     "output_type": "stream",
     "text": [
      "Y 55004\n"
     ]
    }
   ],
   "source": [
    "yy=random.randint(55000,55005)\n",
    "print(check_port(yy), yy)  "
   ]
  },
  {
   "cell_type": "code",
   "execution_count": null,
   "id": "lined-conditioning",
   "metadata": {},
   "outputs": [],
   "source": []
  },
  {
   "cell_type": "code",
   "execution_count": null,
   "id": "announced-participant",
   "metadata": {},
   "outputs": [],
   "source": []
  },
  {
   "cell_type": "code",
   "execution_count": null,
   "id": "happy-things",
   "metadata": {},
   "outputs": [],
   "source": []
  },
  {
   "cell_type": "markdown",
   "id": "pursuant-andrew",
   "metadata": {},
   "source": [
    "# Managed Subscriptions"
   ]
  },
  {
   "cell_type": "code",
   "execution_count": 136,
   "id": "acceptable-springer",
   "metadata": {
    "ExecuteTime": {
     "end_time": "2021-02-27T00:41:55.679569Z",
     "start_time": "2021-02-27T00:41:55.673824Z"
    }
   },
   "outputs": [
    {
     "data": {
      "text/plain": [
       "<sqlite3.Cursor at 0x108e490a0>"
      ]
     },
     "execution_count": 136,
     "metadata": {},
     "output_type": "execute_result"
    }
   ],
   "source": [
    "conn.execute('''CREATE TABLE SUBSCRIPTION\n",
    "     (ID CHAR(20) PRIMARY KEY,\n",
    "      APPNAME      TEXT NOT NULL,\n",
    "      STARTTIME    DATETIME NOT NULL,\n",
    "      DEFAULT_DUR  INT NOT NULL,\n",
    "      MESSAGE.     TEXT NOT NULL);''')"
   ]
  },
  {
   "cell_type": "code",
   "execution_count": 174,
   "id": "prepared-telescope",
   "metadata": {
    "ExecuteTime": {
     "end_time": "2021-02-27T01:05:00.707051Z",
     "start_time": "2021-02-27T01:05:00.702981Z"
    }
   },
   "outputs": [],
   "source": [
    "conn.execute(\"INSERT INTO SUBSCRIPTION (ID,APPNAME,STARTTIME,DEFAULT_DUR) \\\n",
    "      VALUES ('2ede09df70b', 'NGINX', datetime('now'), 60)\")\n",
    "conn.commit()\n"
   ]
  },
  {
   "cell_type": "code",
   "execution_count": 184,
   "id": "indian-radiation",
   "metadata": {
    "ExecuteTime": {
     "end_time": "2021-02-27T01:08:33.906761Z",
     "start_time": "2021-02-27T01:08:33.902677Z"
    }
   },
   "outputs": [],
   "source": [
    "app_cursor = conn.execute('''SELECT id, appname, starttime, default_dur from SUBSCRIPTION \n",
    "       where DATETIME('now') > DATETIME(starttime,\"+\"||default_dur||\" minute\");''')\n",
    "for row in app_cursor:\n",
    "    print (\"ID =          \", row[0])\n",
    "    print (\"Application = \", row[1])\n",
    "    print (\"Start Time =  \", row[2])\n",
    "    print (\"Duration =    \", row[3], \"\\n\")\n",
    "    conn.execute('DELETE from SUBSCRIPTION WHERE ID = \"'+row[0]+'\"' )\n",
    "conn.commit()"
   ]
  },
  {
   "cell_type": "code",
   "execution_count": 183,
   "id": "imported-vegetable",
   "metadata": {
    "ExecuteTime": {
     "end_time": "2021-02-27T01:08:18.750897Z",
     "start_time": "2021-02-27T01:08:18.746350Z"
    }
   },
   "outputs": [
    {
     "name": "stdout",
     "output_type": "stream",
     "text": [
      "ID =           2ede09df70b\n",
      "Application =  NGINX\n",
      "Start Time =   2021-02-27 01:05:00\n",
      "Duration =     60\n",
      "End Time =     2021-02-27 02:05:00\n",
      "Now =          2021-02-27 01:08:18 \n",
      "\n"
     ]
    }
   ],
   "source": [
    "app_cursor = conn.execute('''SELECT id, appname, starttime, default_dur, \n",
    "       DATETIME(starttime,\"+\"||default_dur||\" minute\") as endtime, DATETIME('now') as nowtime from SUBSCRIPTION \n",
    "       where DATETIME('now') <= DATETIME(starttime,\"+\"||default_dur||\" minute\");''')\n",
    "for row in app_cursor:\n",
    "    print (\"ID =          \", row[0])\n",
    "    print (\"Application = \", row[1])\n",
    "    print (\"Start Time =  \", row[2])\n",
    "    print (\"Duration =    \", row[3])\n",
    "    print (\"End Time =    \", row[4])\n",
    "    print (\"Now =         \", row[5], \"\\n\")\n"
   ]
  },
  {
   "cell_type": "code",
   "execution_count": null,
   "id": "conceptual-advice",
   "metadata": {},
   "outputs": [],
   "source": []
  },
  {
   "cell_type": "markdown",
   "id": "arabic-improvement",
   "metadata": {},
   "source": [
    "# Database Stuff"
   ]
  },
  {
   "cell_type": "code",
   "execution_count": 47,
   "id": "expired-approach",
   "metadata": {
    "ExecuteTime": {
     "end_time": "2021-02-26T23:20:43.539304Z",
     "start_time": "2021-02-26T23:20:43.533335Z"
    }
   },
   "outputs": [
    {
     "data": {
      "text/plain": [
       "<sqlite3.Cursor at 0x11246ece0>"
      ]
     },
     "execution_count": 47,
     "metadata": {},
     "output_type": "execute_result"
    }
   ],
   "source": [
    "conn.execute('''CREATE TABLE APPS\n",
    "         (ID INTEGER PRIMARY KEY AUTOINCREMENT,\n",
    "         APPNAME        TEXT    NOT NULL,\n",
    "         DEFAULT_DUR    INT     NOT NULL,\n",
    "         STARTUP        CHAR(2000) NOT NULL);''')"
   ]
  },
  {
   "cell_type": "code",
   "execution_count": 43,
   "id": "optimum-conversation",
   "metadata": {
    "ExecuteTime": {
     "end_time": "2021-02-26T23:19:46.667456Z",
     "start_time": "2021-02-26T23:19:46.664374Z"
    }
   },
   "outputs": [],
   "source": [
    "conn.close()"
   ]
  },
  {
   "cell_type": "markdown",
   "id": "annual-opinion",
   "metadata": {},
   "source": [
    "# Other Stuff"
   ]
  },
  {
   "cell_type": "code",
   "execution_count": 9,
   "id": "cardiac-technology",
   "metadata": {
    "ExecuteTime": {
     "end_time": "2021-02-26T16:33:14.306410Z",
     "start_time": "2021-02-26T16:33:10.873426Z"
    }
   },
   "outputs": [
    {
     "data": {
      "text/plain": [
       "<Image: 'ubuntu:latest'>"
      ]
     },
     "execution_count": 9,
     "metadata": {},
     "output_type": "execute_result"
    }
   ],
   "source": [
    "client.images.pull('ubuntu')"
   ]
  },
  {
   "cell_type": "code",
   "execution_count": 10,
   "id": "civil-custody",
   "metadata": {
    "ExecuteTime": {
     "end_time": "2021-02-26T16:33:26.114716Z",
     "start_time": "2021-02-26T16:33:26.096069Z"
    }
   },
   "outputs": [
    {
     "data": {
      "text/plain": [
       "[<Image: 'nginx:latest'>, <Image: 'ubuntu:latest'>]"
      ]
     },
     "execution_count": 10,
     "metadata": {},
     "output_type": "execute_result"
    }
   ],
   "source": [
    "client.images.list()"
   ]
  },
  {
   "cell_type": "code",
   "execution_count": 11,
   "id": "dietary-corps",
   "metadata": {
    "ExecuteTime": {
     "end_time": "2021-02-26T16:33:57.922876Z",
     "start_time": "2021-02-26T16:33:57.452502Z"
    }
   },
   "outputs": [
    {
     "data": {
      "text/plain": [
       "b'hello world\\n'"
      ]
     },
     "execution_count": 11,
     "metadata": {},
     "output_type": "execute_result"
    }
   ],
   "source": [
    "client.containers.run(\"ubuntu:latest\", \"echo hello world\")"
   ]
  },
  {
   "cell_type": "code",
   "execution_count": null,
   "id": "going-portal",
   "metadata": {
    "ExecuteTime": {
     "end_time": "2021-02-26T16:40:03.993245Z",
     "start_time": "2021-02-26T16:39:05.365198Z"
    }
   },
   "outputs": [],
   "source": [
    "events = client.events()\n",
    "for event in events:\n",
    "    print(event)\n",
    "events.close()"
   ]
  },
  {
   "cell_type": "code",
   "execution_count": 32,
   "id": "further-findings",
   "metadata": {
    "ExecuteTime": {
     "end_time": "2021-02-28T07:24:36.970668Z",
     "start_time": "2021-02-28T07:24:36.967033Z"
    }
   },
   "outputs": [
    {
     "name": "stdout",
     "output_type": "stream",
     "text": [
      "enabled\n"
     ]
    }
   ],
   "source": [
    "import psutil\n",
    "loadrate = float(list(psutil.getloadavg())[1])/float(psutil.cpu_count())\n",
    "if loadrate >= 1:\n",
    "    print('disabled')\n",
    "else:\n",
    "    print('enabled')\n",
    "\n",
    "#x = list(psutil.getloadavg())[1] \n",
    "#print(float(x))"
   ]
  },
  {
   "cell_type": "code",
   "execution_count": 42,
   "id": "vietnamese-plymouth",
   "metadata": {
    "ExecuteTime": {
     "end_time": "2021-02-28T08:10:26.080439Z",
     "start_time": "2021-02-28T08:10:26.074892Z"
    }
   },
   "outputs": [
    {
     "name": "stdout",
     "output_type": "stream",
     "text": [
      "18.26Gb\n"
     ]
    }
   ],
   "source": [
    "import shutil\n",
    "print(str(round(list(shutil.disk_usage(\"/\"))[2]/(1024*1024*1024),2))+' gb')"
   ]
  },
  {
   "cell_type": "code",
   "execution_count": 46,
   "id": "short-coral",
   "metadata": {
    "ExecuteTime": {
     "end_time": "2021-02-28T08:13:56.701969Z",
     "start_time": "2021-02-28T08:13:56.687123Z"
    }
   },
   "outputs": [
    {
     "data": {
      "text/plain": [
       "1"
      ]
     },
     "execution_count": 46,
     "metadata": {},
     "output_type": "execute_result"
    }
   ],
   "source": [
    "len(client.containers.list())"
   ]
  },
  {
   "cell_type": "code",
   "execution_count": 47,
   "id": "lesser-september",
   "metadata": {
    "ExecuteTime": {
     "end_time": "2021-02-28T08:15:05.279786Z",
     "start_time": "2021-02-28T08:15:05.243869Z"
    }
   },
   "outputs": [
    {
     "data": {
      "text/plain": [
       "2"
      ]
     },
     "execution_count": 47,
     "metadata": {},
     "output_type": "execute_result"
    }
   ],
   "source": [
    "len(client.images.list())"
   ]
  },
  {
   "cell_type": "code",
   "execution_count": 10,
   "id": "timely-johnston",
   "metadata": {
    "ExecuteTime": {
     "end_time": "2021-02-28T23:40:27.983153Z",
     "start_time": "2021-02-28T23:40:27.978887Z"
    }
   },
   "outputs": [
    {
     "name": "stdout",
     "output_type": "stream",
     "text": [
      "MTIzNDU2Nw==\n"
     ]
    }
   ],
   "source": [
    "import base64\n",
    "\n",
    "data = 1234567\n",
    "\n",
    "# URL and Filename Safe Base64 Encoding\n",
    "urlSafeEncodedBytes = base64.urlsafe_b64encode(str(data).encode(\"utf-8\"))\n",
    "urlSafeEncodedStr = str(urlSafeEncodedBytes, \"utf-8\")\n",
    "\n",
    "print(urlSafeEncodedStr)"
   ]
  },
  {
   "cell_type": "code",
   "execution_count": 25,
   "id": "fatal-genome",
   "metadata": {
    "ExecuteTime": {
     "end_time": "2021-02-28T23:57:33.479584Z",
     "start_time": "2021-02-28T23:57:33.475176Z"
    }
   },
   "outputs": [
    {
     "name": "stdout",
     "output_type": "stream",
     "text": [
      "The randomly generated string is : 9VDHCv\n"
     ]
    }
   ],
   "source": [
    "import string    \n",
    "import random  \n",
    "ran = ''.join(random.choices(string.ascii_uppercase + string.digits + string.ascii_lowercase, k = 6))    \n",
    "print(\"The randomly generated string is : \" + str(ran)) # print the random data "
   ]
  },
  {
   "cell_type": "code",
   "execution_count": 23,
   "id": "looking-wesley",
   "metadata": {
    "ExecuteTime": {
     "end_time": "2021-02-28T23:56:58.300752Z",
     "start_time": "2021-02-28T23:56:58.296615Z"
    }
   },
   "outputs": [
    {
     "data": {
      "text/plain": [
       "56800235584"
      ]
     },
     "execution_count": 23,
     "metadata": {},
     "output_type": "execute_result"
    }
   ],
   "source": [
    "len(string.ascii_uppercase + string.digits + string.ascii_lowercase)**6"
   ]
  },
  {
   "cell_type": "code",
   "execution_count": 8,
   "id": "subtle-characteristic",
   "metadata": {
    "ExecuteTime": {
     "end_time": "2021-03-02T21:42:09.393568Z",
     "start_time": "2021-03-02T21:42:09.382108Z"
    }
   },
   "outputs": [
    {
     "name": "stdout",
     "output_type": "stream",
     "text": [
      "The exit code was: 0\n",
      "/Users/rorymclean/notebooks\n",
      "\n"
     ]
    }
   ],
   "source": [
    "import subprocess\n",
    "\n",
    "list_files = subprocess.run([\"pwd\"], stdout=subprocess.PIPE)\n",
    "print(\"The exit code was: %d\" % list_files.returncode)\n",
    "print(list_files.stdout.decode('UTF-8'))"
   ]
  },
  {
   "cell_type": "code",
   "execution_count": null,
   "id": "technical-confusion",
   "metadata": {
    "ExecuteTime": {
     "end_time": "2021-03-03T16:09:31.391733Z",
     "start_time": "2021-03-03T16:09:31.370564Z"
    }
   },
   "outputs": [],
   "source": [
    "import subprocess\n",
    "\n",
    "lablaunch = subprocess.run([\"./runlab.sh\", 'LAB01', 'XYZZY', '55555', '55556', '', '', ''], stdout=subprocess.PIPE)\n",
    "print(\"The exit code was: %d\" % lablaunch.returncode)\n",
    "print(list_lablaunchfiles.stdout.decode('UTF-8'))"
   ]
  },
  {
   "cell_type": "code",
   "execution_count": null,
   "id": "disciplinary-hughes",
   "metadata": {
    "ExecuteTime": {
     "end_time": "2021-03-02T21:54:12.210730Z",
     "start_time": "2021-03-02T21:53:37.269345Z"
    }
   },
   "outputs": [],
   "source": [
    "import subprocess\n",
    "\n",
    "list_dir = subprocess.Popen([\"sudo\", \"du\", \"-d\", \"1\", \"/Users/rorymclean/\"])\n",
    "print(list_dir.poll())\n",
    "print(list_dir.wait())\n",
    "print(list_dir.poll())\n",
    "print(list_dir.stdout.decode('UTF-8'))"
   ]
  },
  {
   "cell_type": "code",
   "execution_count": 13,
   "id": "conventional-encyclopedia",
   "metadata": {
    "ExecuteTime": {
     "end_time": "2021-03-04T06:03:08.275446Z",
     "start_time": "2021-03-04T06:03:08.270498Z"
    }
   },
   "outputs": [
    {
     "name": "stdout",
     "output_type": "stream",
     "text": [
      "MtDWsOaRlWvE\n",
      "01350667426255675a330f37\n",
      "LAB01-456dyr\n"
     ]
    }
   ],
   "source": [
    "import onetimepad\n",
    "import random\n",
    "import string\n",
    " \n",
    "def random_string_generator(str_size, allowed_chars):\n",
    "    return ''.join(random.choice(allowed_chars) for x in range(str_size))\n",
    "\n",
    "chars = string.ascii_letters #+ string.punctuation\n",
    "clear_text = 'LAB01-456dyr'\n",
    "pad_text = random_string_generator(len(clear_text), chars)\n",
    "print(pad_text)\n",
    "cipher = onetimepad.encrypt(clear_text, pad_text)\n",
    "print(cipher)\n",
    "msg = onetimepad.decrypt(cipher, pad_text)\n",
    "print(msg)"
   ]
  },
  {
   "cell_type": "code",
   "execution_count": null,
   "id": "accepted-greensboro",
   "metadata": {},
   "outputs": [],
   "source": []
  },
  {
   "cell_type": "code",
   "execution_count": null,
   "id": "american-packaging",
   "metadata": {},
   "outputs": [],
   "source": []
  }
 ],
 "metadata": {
  "kernelspec": {
   "display_name": "Python 3",
   "language": "python",
   "name": "python3"
  },
  "language_info": {
   "codemirror_mode": {
    "name": "ipython",
    "version": 3
   },
   "file_extension": ".py",
   "mimetype": "text/x-python",
   "name": "python",
   "nbconvert_exporter": "python",
   "pygments_lexer": "ipython3",
   "version": "3.9.1"
  },
  "latex_envs": {
   "LaTeX_envs_menu_present": true,
   "autoclose": false,
   "autocomplete": true,
   "bibliofile": "biblio.bib",
   "cite_by": "apalike",
   "current_citInitial": 1,
   "eqLabelWithNumbers": true,
   "eqNumInitial": 1,
   "hotkeys": {
    "equation": "Ctrl-E",
    "itemize": "Ctrl-I"
   },
   "labels_anchors": false,
   "latex_user_defs": false,
   "report_style_numbering": false,
   "user_envs_cfg": false
  },
  "toc": {
   "base_numbering": 1,
   "nav_menu": {},
   "number_sections": true,
   "sideBar": true,
   "skip_h1_title": false,
   "title_cell": "Table of Contents",
   "title_sidebar": "Contents",
   "toc_cell": false,
   "toc_position": {},
   "toc_section_display": true,
   "toc_window_display": false
  },
  "varInspector": {
   "cols": {
    "lenName": 16,
    "lenType": 16,
    "lenVar": 40
   },
   "kernels_config": {
    "python": {
     "delete_cmd_postfix": "",
     "delete_cmd_prefix": "del ",
     "library": "var_list.py",
     "varRefreshCmd": "print(var_dic_list())"
    },
    "r": {
     "delete_cmd_postfix": ") ",
     "delete_cmd_prefix": "rm(",
     "library": "var_list.r",
     "varRefreshCmd": "cat(var_dic_list()) "
    }
   },
   "types_to_exclude": [
    "module",
    "function",
    "builtin_function_or_method",
    "instance",
    "_Feature"
   ],
   "window_display": false
  }
 },
 "nbformat": 4,
 "nbformat_minor": 5
}

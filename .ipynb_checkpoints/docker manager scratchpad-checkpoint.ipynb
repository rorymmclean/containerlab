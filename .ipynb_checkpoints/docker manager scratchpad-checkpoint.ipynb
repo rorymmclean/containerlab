{
 "cells": [
  {
   "cell_type": "markdown",
   "id": "historic-democracy",
   "metadata": {},
   "source": [
    "# Setup Steps"
   ]
  },
  {
   "cell_type": "code",
   "execution_count": 1,
   "id": "unlimited-buddy",
   "metadata": {
    "ExecuteTime": {
     "end_time": "2021-03-03T14:31:48.204578Z",
     "start_time": "2021-03-03T14:31:48.055018Z"
    }
   },
   "outputs": [],
   "source": [
    "import docker\n",
    "import sqlite3\n",
    "client = docker.from_env()\n",
    "conn = sqlite3.connect('dockermgr.db')"
   ]
  },
  {
   "cell_type": "markdown",
   "id": "closed-lawrence",
   "metadata": {},
   "source": [
    "# Menu Steps"
   ]
  },
  {
   "cell_type": "code",
   "execution_count": null,
   "id": "turkish-heath",
   "metadata": {},
   "outputs": [],
   "source": [
    "conn.execute('''CREATE TABLE APPS\n",
    "         (ID CHAR(10) PRIMARY KEY,\n",
    "         APPNAME        TEXT    NOT NULL,\n",
    "         DEFAULT_DUR    INT     NOT NULL,\n",
    "         NBR_PORTS      INT    NOT NULL,\n",
    "         MESSAGE        TEXT NOT NULL);''')"
   ]
  },
  {
   "cell_type": "code",
   "execution_count": 51,
   "id": "quality-italic",
   "metadata": {
    "ExecuteTime": {
     "end_time": "2021-02-26T23:28:32.271899Z",
     "start_time": "2021-02-26T23:28:32.267908Z"
    }
   },
   "outputs": [],
   "source": [
    "conn.execute(\"INSERT INTO APPS (ID,APPNAME,DEFAULT_DUR,STARTUP) \\\n",
    "      VALUES (null, 'MongoDB', 60, 'docker run -it -d -P --name mongodb mongodb:latest ')\")\n",
    "conn.commit()"
   ]
  },
  {
   "cell_type": "code",
   "execution_count": 52,
   "id": "hydraulic-right",
   "metadata": {
    "ExecuteTime": {
     "end_time": "2021-02-26T23:28:37.122394Z",
     "start_time": "2021-02-26T23:28:37.117634Z"
    }
   },
   "outputs": [
    {
     "name": "stdout",
     "output_type": "stream",
     "text": [
      "ID =  1\n",
      "Application =  NGINX\n",
      "Duration =  60\n",
      "Command =  docker run -it -d --name nginx -P nginx:latest \n",
      "\n",
      "ID =  2\n",
      "Application =  MongoDB\n",
      "Duration =  60\n",
      "Command =  docker run -it -d -P --name mongodb mongodb:latest  \n",
      "\n"
     ]
    }
   ],
   "source": [
    "app_cursor = conn.execute(\"SELECT id, appname, default_dur, startup from APPS\")\n",
    "for row in app_cursor:\n",
    "   print (\"ID = \", row[0])\n",
    "   print (\"Application = \", row[1])\n",
    "   print (\"Duration = \", row[2])\n",
    "   print (\"Command = \", row[3], \"\\n\")"
   ]
  },
  {
   "cell_type": "code",
   "execution_count": null,
   "id": "important-protest",
   "metadata": {},
   "outputs": [],
   "source": []
  },
  {
   "cell_type": "markdown",
   "id": "considerable-hurricane",
   "metadata": {},
   "source": [
    "# List Containers"
   ]
  },
  {
   "cell_type": "code",
   "execution_count": 64,
   "id": "solved-calibration",
   "metadata": {
    "ExecuteTime": {
     "end_time": "2021-03-03T02:00:25.688233Z",
     "start_time": "2021-03-03T02:00:25.636268Z"
    }
   },
   "outputs": [
    {
     "name": "stdout",
     "output_type": "stream",
     "text": [
      "3457bb09d9\n",
      "Name = MongoExpress-LAB01K9TB\n",
      "Image = mongo-express\n",
      "Port = 55002\n",
      "55002\n",
      "fcb2da1d7c\n",
      "Name = Mongo-LAB01K9TB\n",
      "Image = poc2opslabs/lab01:latest\n",
      "Port = 55001\n",
      "55001\n",
      "aa4604cf7f\n",
      "Name = here\n",
      "Image = nginx\n",
      "Port = 55000\n",
      "55000\n",
      "55002\n",
      "55001\n",
      "55000\n",
      "N 59305\n"
     ]
    }
   ],
   "source": [
    "import pprint\n",
    "import random\n",
    "pp = pprint.PrettyPrinter(indent=2)\n",
    "\n",
    "cont_curr = client.containers.list()\n",
    "for row in cont_curr:\n",
    "#    print(row)\n",
    "    print(str(row)[12:-1])\n",
    "    container = client.containers.get(str(row)[12:-1])\n",
    "#    pp.pprint(container.attrs)\n",
    "    print('Name =',container.attrs['Name'][1:])\n",
    "    print('Image =',container.attrs['Config']['Image'])\n",
    "    ports = container.attrs['NetworkSettings']['Ports']\n",
    "    print('Port =', ports[list(ports.keys())[0]][0][\"HostPort\"])\n",
    "    print(ports[list(ports.keys())[0]][0][\"HostPort\"])\n",
    "    \n"
   ]
  },
  {
   "cell_type": "code",
   "execution_count": 66,
   "id": "outside-coral",
   "metadata": {
    "ExecuteTime": {
     "end_time": "2021-03-03T02:02:21.846548Z",
     "start_time": "2021-03-03T02:02:21.842112Z"
    }
   },
   "outputs": [],
   "source": [
    "def check_port(a):\n",
    "    checkflag = 'Y'\n",
    "    cont_curr = client.containers.list()\n",
    "    for row in cont_curr:\n",
    "        container = client.containers.get(str(row)[12:-1])\n",
    "        ports = container.attrs['NetworkSettings']['Ports']\n",
    "        portstr = ports[list(ports.keys())[0]][0][\"HostPort\"]\n",
    "        if portstr == str(yy):\n",
    "            checkflag='N'  \n",
    "    return checkflag"
   ]
  },
  {
   "cell_type": "code",
   "execution_count": 71,
   "id": "magnetic-booking",
   "metadata": {
    "ExecuteTime": {
     "end_time": "2021-03-03T02:03:29.561061Z",
     "start_time": "2021-03-03T02:03:29.528968Z"
    }
   },
   "outputs": [
    {
     "name": "stdout",
     "output_type": "stream",
     "text": [
      "Y 55004\n"
     ]
    }
   ],
   "source": [
    "yy=random.randint(55000,55005)\n",
    "print(check_port(yy), yy)  "
   ]
  },
  {
   "cell_type": "code",
   "execution_count": null,
   "id": "lined-conditioning",
   "metadata": {},
   "outputs": [],
   "source": []
  },
  {
   "cell_type": "code",
   "execution_count": null,
   "id": "announced-participant",
   "metadata": {},
   "outputs": [],
   "source": []
  },
  {
   "cell_type": "code",
   "execution_count": null,
   "id": "happy-things",
   "metadata": {},
   "outputs": [],
   "source": []
  },
  {
   "cell_type": "markdown",
   "id": "pursuant-andrew",
   "metadata": {},
   "source": [
    "# Managed Subscriptions"
   ]
  },
  {
   "cell_type": "code",
   "execution_count": 136,
   "id": "acceptable-springer",
   "metadata": {
    "ExecuteTime": {
     "end_time": "2021-02-27T00:41:55.679569Z",
     "start_time": "2021-02-27T00:41:55.673824Z"
    }
   },
   "outputs": [
    {
     "data": {
      "text/plain": [
       "<sqlite3.Cursor at 0x108e490a0>"
      ]
     },
     "execution_count": 136,
     "metadata": {},
     "output_type": "execute_result"
    }
   ],
   "source": [
    "conn.execute('''CREATE TABLE SUBSCRIPTION\n",
    "     (ID CHAR(20) PRIMARY KEY,\n",
    "      APPNAME      TEXT NOT NULL,\n",
    "      STARTTIME    DATETIME NOT NULL,\n",
    "      DEFAULT_DUR  INT NOT NULL,\n",
    "      MESSAGE.     TEXT NOT NULL);''')"
   ]
  },
  {
   "cell_type": "code",
   "execution_count": 174,
   "id": "prepared-telescope",
   "metadata": {
    "ExecuteTime": {
     "end_time": "2021-02-27T01:05:00.707051Z",
     "start_time": "2021-02-27T01:05:00.702981Z"
    }
   },
   "outputs": [],
   "source": [
    "conn.execute(\"INSERT INTO SUBSCRIPTION (ID,APPNAME,STARTTIME,DEFAULT_DUR) \\\n",
    "      VALUES ('2ede09df70b', 'NGINX', datetime('now'), 60)\")\n",
    "conn.commit()\n"
   ]
  },
  {
   "cell_type": "code",
   "execution_count": 184,
   "id": "indian-radiation",
   "metadata": {
    "ExecuteTime": {
     "end_time": "2021-02-27T01:08:33.906761Z",
     "start_time": "2021-02-27T01:08:33.902677Z"
    }
   },
   "outputs": [],
   "source": [
    "app_cursor = conn.execute('''SELECT id, appname, starttime, default_dur from SUBSCRIPTION \n",
    "       where DATETIME('now') > DATETIME(starttime,\"+\"||default_dur||\" minute\");''')\n",
    "for row in app_cursor:\n",
    "    print (\"ID =          \", row[0])\n",
    "    print (\"Application = \", row[1])\n",
    "    print (\"Start Time =  \", row[2])\n",
    "    print (\"Duration =    \", row[3], \"\\n\")\n",
    "    conn.execute('DELETE from SUBSCRIPTION WHERE ID = \"'+row[0]+'\"' )\n",
    "conn.commit()"
   ]
  },
  {
   "cell_type": "code",
   "execution_count": 183,
   "id": "imported-vegetable",
   "metadata": {
    "ExecuteTime": {
     "end_time": "2021-02-27T01:08:18.750897Z",
     "start_time": "2021-02-27T01:08:18.746350Z"
    }
   },
   "outputs": [
    {
     "name": "stdout",
     "output_type": "stream",
     "text": [
      "ID =           2ede09df70b\n",
      "Application =  NGINX\n",
      "Start Time =   2021-02-27 01:05:00\n",
      "Duration =     60\n",
      "End Time =     2021-02-27 02:05:00\n",
      "Now =          2021-02-27 01:08:18 \n",
      "\n"
     ]
    }
   ],
   "source": [
    "app_cursor = conn.execute('''SELECT id, appname, starttime, default_dur, \n",
    "       DATETIME(starttime,\"+\"||default_dur||\" minute\") as endtime, DATETIME('now') as nowtime from SUBSCRIPTION \n",
    "       where DATETIME('now') <= DATETIME(starttime,\"+\"||default_dur||\" minute\");''')\n",
    "for row in app_cursor:\n",
    "    print (\"ID =          \", row[0])\n",
    "    print (\"Application = \", row[1])\n",
    "    print (\"Start Time =  \", row[2])\n",
    "    print (\"Duration =    \", row[3])\n",
    "    print (\"End Time =    \", row[4])\n",
    "    print (\"Now =         \", row[5], \"\\n\")\n"
   ]
  },
  {
   "cell_type": "code",
   "execution_count": null,
   "id": "conceptual-advice",
   "metadata": {},
   "outputs": [],
   "source": []
  },
  {
   "cell_type": "markdown",
   "id": "arabic-improvement",
   "metadata": {},
   "source": [
    "# Database Stuff"
   ]
  },
  {
   "cell_type": "code",
   "execution_count": 47,
   "id": "expired-approach",
   "metadata": {
    "ExecuteTime": {
     "end_time": "2021-02-26T23:20:43.539304Z",
     "start_time": "2021-02-26T23:20:43.533335Z"
    }
   },
   "outputs": [
    {
     "data": {
      "text/plain": [
       "<sqlite3.Cursor at 0x11246ece0>"
      ]
     },
     "execution_count": 47,
     "metadata": {},
     "output_type": "execute_result"
    }
   ],
   "source": [
    "conn.execute('''CREATE TABLE APPS\n",
    "         (ID INTEGER PRIMARY KEY AUTOINCREMENT,\n",
    "         APPNAME        TEXT    NOT NULL,\n",
    "         DEFAULT_DUR    INT     NOT NULL,\n",
    "         STARTUP        CHAR(2000) NOT NULL);''')"
   ]
  },
  {
   "cell_type": "code",
   "execution_count": 43,
   "id": "optimum-conversation",
   "metadata": {
    "ExecuteTime": {
     "end_time": "2021-02-26T23:19:46.667456Z",
     "start_time": "2021-02-26T23:19:46.664374Z"
    }
   },
   "outputs": [],
   "source": [
    "conn.close()"
   ]
  },
  {
   "cell_type": "markdown",
   "id": "annual-opinion",
   "metadata": {},
   "source": [
    "# Other Stuff"
   ]
  },
  {
   "cell_type": "code",
   "execution_count": 9,
   "id": "cardiac-technology",
   "metadata": {
    "ExecuteTime": {
     "end_time": "2021-02-26T16:33:14.306410Z",
     "start_time": "2021-02-26T16:33:10.873426Z"
    }
   },
   "outputs": [
    {
     "data": {
      "text/plain": [
       "<Image: 'ubuntu:latest'>"
      ]
     },
     "execution_count": 9,
     "metadata": {},
     "output_type": "execute_result"
    }
   ],
   "source": [
    "client.images.pull('ubuntu')"
   ]
  },
  {
   "cell_type": "code",
   "execution_count": 10,
   "id": "civil-custody",
   "metadata": {
    "ExecuteTime": {
     "end_time": "2021-02-26T16:33:26.114716Z",
     "start_time": "2021-02-26T16:33:26.096069Z"
    }
   },
   "outputs": [
    {
     "data": {
      "text/plain": [
       "[<Image: 'nginx:latest'>, <Image: 'ubuntu:latest'>]"
      ]
     },
     "execution_count": 10,
     "metadata": {},
     "output_type": "execute_result"
    }
   ],
   "source": [
    "client.images.list()"
   ]
  },
  {
   "cell_type": "code",
   "execution_count": 11,
   "id": "dietary-corps",
   "metadata": {
    "ExecuteTime": {
     "end_time": "2021-02-26T16:33:57.922876Z",
     "start_time": "2021-02-26T16:33:57.452502Z"
    }
   },
   "outputs": [
    {
     "data": {
      "text/plain": [
       "b'hello world\\n'"
      ]
     },
     "execution_count": 11,
     "metadata": {},
     "output_type": "execute_result"
    }
   ],
   "source": [
    "client.containers.run(\"ubuntu:latest\", \"echo hello world\")"
   ]
  },
  {
   "cell_type": "code",
   "execution_count": null,
   "id": "going-portal",
   "metadata": {
    "ExecuteTime": {
     "end_time": "2021-02-26T16:40:03.993245Z",
     "start_time": "2021-02-26T16:39:05.365198Z"
    }
   },
   "outputs": [],
   "source": [
    "events = client.events()\n",
    "for event in events:\n",
    "    print(event)\n",
    "events.close()"
   ]
  },
  {
   "cell_type": "code",
   "execution_count": 32,
   "id": "further-findings",
   "metadata": {
    "ExecuteTime": {
     "end_time": "2021-02-28T07:24:36.970668Z",
     "start_time": "2021-02-28T07:24:36.967033Z"
    }
   },
   "outputs": [
    {
     "name": "stdout",
     "output_type": "stream",
     "text": [
      "enabled\n"
     ]
    }
   ],
   "source": [
    "import psutil\n",
    "loadrate = float(list(psutil.getloadavg())[1])/float(psutil.cpu_count())\n",
    "if loadrate >= 1:\n",
    "    print('disabled')\n",
    "else:\n",
    "    print('enabled')\n",
    "\n",
    "#x = list(psutil.getloadavg())[1] \n",
    "#print(float(x))"
   ]
  },
  {
   "cell_type": "code",
   "execution_count": 42,
   "id": "vietnamese-plymouth",
   "metadata": {
    "ExecuteTime": {
     "end_time": "2021-02-28T08:10:26.080439Z",
     "start_time": "2021-02-28T08:10:26.074892Z"
    }
   },
   "outputs": [
    {
     "name": "stdout",
     "output_type": "stream",
     "text": [
      "18.26Gb\n"
     ]
    }
   ],
   "source": [
    "import shutil\n",
    "print(str(round(list(shutil.disk_usage(\"/\"))[2]/(1024*1024*1024),2))+' gb')"
   ]
  },
  {
   "cell_type": "code",
   "execution_count": 46,
   "id": "short-coral",
   "metadata": {
    "ExecuteTime": {
     "end_time": "2021-02-28T08:13:56.701969Z",
     "start_time": "2021-02-28T08:13:56.687123Z"
    }
   },
   "outputs": [
    {
     "data": {
      "text/plain": [
       "1"
      ]
     },
     "execution_count": 46,
     "metadata": {},
     "output_type": "execute_result"
    }
   ],
   "source": [
    "len(client.containers.list())"
   ]
  },
  {
   "cell_type": "code",
   "execution_count": 47,
   "id": "lesser-september",
   "metadata": {
    "ExecuteTime": {
     "end_time": "2021-02-28T08:15:05.279786Z",
     "start_time": "2021-02-28T08:15:05.243869Z"
    }
   },
   "outputs": [
    {
     "data": {
      "text/plain": [
       "2"
      ]
     },
     "execution_count": 47,
     "metadata": {},
     "output_type": "execute_result"
    }
   ],
   "source": [
    "len(client.images.list())"
   ]
  },
  {
   "cell_type": "code",
   "execution_count": 10,
   "id": "timely-johnston",
   "metadata": {
    "ExecuteTime": {
     "end_time": "2021-02-28T23:40:27.983153Z",
     "start_time": "2021-02-28T23:40:27.978887Z"
    }
   },
   "outputs": [
    {
     "name": "stdout",
     "output_type": "stream",
     "text": [
      "MTIzNDU2Nw==\n"
     ]
    }
   ],
   "source": [
    "import base64\n",
    "\n",
    "data = 1234567\n",
    "\n",
    "# URL and Filename Safe Base64 Encoding\n",
    "urlSafeEncodedBytes = base64.urlsafe_b64encode(str(data).encode(\"utf-8\"))\n",
    "urlSafeEncodedStr = str(urlSafeEncodedBytes, \"utf-8\")\n",
    "\n",
    "print(urlSafeEncodedStr)"
   ]
  },
  {
   "cell_type": "code",
   "execution_count": 25,
   "id": "fatal-genome",
   "metadata": {
    "ExecuteTime": {
     "end_time": "2021-02-28T23:57:33.479584Z",
     "start_time": "2021-02-28T23:57:33.475176Z"
    }
   },
   "outputs": [
    {
     "name": "stdout",
     "output_type": "stream",
     "text": [
      "The randomly generated string is : 9VDHCv\n"
     ]
    }
   ],
   "source": [
    "import string    \n",
    "import random  \n",
    "ran = ''.join(random.choices(string.ascii_uppercase + string.digits + string.ascii_lowercase, k = 6))    \n",
    "print(\"The randomly generated string is : \" + str(ran)) # print the random data "
   ]
  },
  {
   "cell_type": "code",
   "execution_count": 23,
   "id": "looking-wesley",
   "metadata": {
    "ExecuteTime": {
     "end_time": "2021-02-28T23:56:58.300752Z",
     "start_time": "2021-02-28T23:56:58.296615Z"
    }
   },
   "outputs": [
    {
     "data": {
      "text/plain": [
       "56800235584"
      ]
     },
     "execution_count": 23,
     "metadata": {},
     "output_type": "execute_result"
    }
   ],
   "source": [
    "len(string.ascii_uppercase + string.digits + string.ascii_lowercase)**6"
   ]
  },
  {
   "cell_type": "code",
   "execution_count": 8,
   "id": "subtle-characteristic",
   "metadata": {
    "ExecuteTime": {
     "end_time": "2021-03-02T21:42:09.393568Z",
     "start_time": "2021-03-02T21:42:09.382108Z"
    }
   },
   "outputs": [
    {
     "name": "stdout",
     "output_type": "stream",
     "text": [
      "The exit code was: 0\n",
      "/Users/rorymclean/notebooks\n",
      "\n"
     ]
    }
   ],
   "source": [
    "import subprocess\n",
    "\n",
    "list_files = subprocess.run([\"pwd\"], stdout=subprocess.PIPE)\n",
    "print(\"The exit code was: %d\" % list_files.returncode)\n",
    "print(list_files.stdout.decode('UTF-8'))"
   ]
  },
  {
   "cell_type": "code",
   "execution_count": null,
   "id": "technical-confusion",
   "metadata": {
    "ExecuteTime": {
     "end_time": "2021-03-03T16:09:31.391733Z",
     "start_time": "2021-03-03T16:09:31.370564Z"
    }
   },
   "outputs": [],
   "source": [
    "import subprocess\n",
    "\n",
    "lablaunch = subprocess.run([\"./runlab.sh\", 'LAB01', 'XYZZY', '55555', '55556', '', '', ''], stdout=subprocess.PIPE)\n",
    "print(\"The exit code was: %d\" % lablaunch.returncode)\n",
    "print(list_lablaunchfiles.stdout.decode('UTF-8'))"
   ]
  },
  {
   "cell_type": "code",
   "execution_count": null,
   "id": "disciplinary-hughes",
   "metadata": {
    "ExecuteTime": {
     "end_time": "2021-03-02T21:54:12.210730Z",
     "start_time": "2021-03-02T21:53:37.269345Z"
    }
   },
   "outputs": [],
   "source": [
    "import subprocess\n",
    "\n",
    "list_dir = subprocess.Popen([\"sudo\", \"du\", \"-d\", \"1\", \"/Users/rorymclean/\"])\n",
    "print(list_dir.poll())\n",
    "print(list_dir.wait())\n",
    "print(list_dir.poll())\n",
    "print(list_dir.stdout.decode('UTF-8'))"
   ]
  },
  {
   "cell_type": "code",
   "execution_count": 13,
   "id": "conventional-encyclopedia",
   "metadata": {
    "ExecuteTime": {
     "end_time": "2021-03-04T06:03:08.275446Z",
     "start_time": "2021-03-04T06:03:08.270498Z"
    }
   },
   "outputs": [
    {
     "name": "stdout",
     "output_type": "stream",
     "text": [
      "MtDWsOaRlWvE\n",
      "01350667426255675a330f37\n",
      "LAB01-456dyr\n"
     ]
    }
   ],
   "source": [
    "import onetimepad\n",
    "import random\n",
    "import string\n",
    " \n",
    "def random_string_generator(str_size, allowed_chars):\n",
    "    return ''.join(random.choice(allowed_chars) for x in range(str_size))\n",
    "\n",
    "chars = string.ascii_letters #+ string.punctuation\n",
    "clear_text = 'LAB01-456dyr'\n",
    "pad_text = random_string_generator(len(clear_text), chars)\n",
    "print(pad_text)\n",
    "cipher = onetimepad.encrypt(clear_text, pad_text)\n",
    "print(cipher)\n",
    "msg = onetimepad.decrypt(cipher, pad_text)\n",
    "print(msg)"
   ]
  },
  {
   "cell_type": "code",
   "execution_count": 10,
   "id": "accepted-greensboro",
   "metadata": {
    "ExecuteTime": {
     "end_time": "2021-03-05T15:42:25.170062Z",
     "start_time": "2021-03-05T15:42:23.157616Z"
    }
   },
   "outputs": [
    {
     "name": "stdout",
     "output_type": "stream",
     "text": [
      "12\n",
      "6\n",
      "scputimes(user=149813.65, nice=0.0, system=112450.39, idle=3235913.79)\n",
      "(1.71923828125, 2.18017578125, 2.03515625)\n",
      "8.0\n",
      "[29.0, 1.0, 26.0, 1.0, 18.4, 1.0, 16.0, 0.0, 11.0, 0.0, 14.0, 0.0]\n"
     ]
    }
   ],
   "source": [
    "import psutil\n",
    "print(psutil.cpu_count())\n",
    "print(psutil.cpu_count(logical=False))\n",
    "print(psutil.cpu_times())\n",
    "print(psutil.getloadavg())\n",
    "print(psutil.cpu_percent(interval=1))\n",
    "print(psutil.cpu_percent(interval=1, percpu=True))"
   ]
  },
  {
   "cell_type": "code",
   "execution_count": 15,
   "id": "american-packaging",
   "metadata": {
    "ExecuteTime": {
     "end_time": "2021-03-05T15:46:08.538893Z",
     "start_time": "2021-03-05T15:46:08.377838Z"
    }
   },
   "outputs": [
    {
     "name": "stdout",
     "output_type": "stream",
     "text": [
      "[suser(name='rorymclean', terminal='console', host=None, started=1614390144.0, pid=171), suser(name='rorymclean', terminal='ttys000', host=None, started=1614957952.0, pid=40551)]\n",
      "USER         PID  %MEM     VSZ     RSS  NICE STATUS  START   TIME  CMDLINE\n",
      "root           0                              runni  Feb26         kernel_task\n",
      "root           1                              runni  Feb26         launchd\n",
      "root          60                              runni  Feb26         syslogd\n",
      "root          61                              runni  Feb26         UserEventAgen\n",
      "root          64                              runni  Feb26         uninstalld\n",
      "root          65                              runni  Feb26         fseventsd\n",
      "root          66                              runni  Feb26         mediaremoted\n",
      "root          69                              runni  Feb26         systemstats\n",
      "root          71                              runni  Feb26         configd\n",
      "root          72                              runni  Feb26         endpointsecur\n",
      "root          73                              runni  Feb26         powerd\n",
      "root          76                              runni  Feb26         remoted\n",
      "root          78                              runni  Feb26         logd\n",
      "root          79                              runni  Feb26         keybagd\n",
      "root          80                              runni  Feb26         nessus-servic\n",
      "_software     83                              runni  Feb26         softwareupdat\n",
      "root          85                              runni  Feb26         watchdogd\n",
      "root          89                              runni  Feb26         mds\n",
      "_iconserv     90                              runni  Feb26         iconservicesd\n",
      "root          91                              runni  Feb26         kernelmanager\n",
      "root          92                              runni  Feb26         diskarbitrati\n",
      "root          95                              runni  Feb26         coreduetd\n",
      "root          98                              runni  Feb26         thermalmonito\n",
      "root          99                              runni  Feb26         contextstored\n",
      "root         100                              runni  Feb26         opendirectory\n",
      "root         101                              runni  Feb26         apsd\n",
      "root         102                              runni  Feb26         com.docker.vm\n",
      "root         103                              runni  Feb26         launchservice\n",
      "_timed       104                              runni  Feb26         timed\n",
      "_usbmuxd     106                              runni  Feb26         usbmuxd\n",
      "root         107                              runni  Feb26         securityd\n",
      "root         108                              runni  Feb26         auditd\n",
      "_location    110                              runni  Feb26         locationd\n",
      "root         112                              runni  Feb26         autofsd\n",
      "_displayp    113                              runni  Feb26         displaypolicy\n",
      "root         115                              runni  Feb26         dasd\n",
      "_distnote    118                              runni  Feb26         distnoted\n",
      "root         119                              runni  Feb26         AppleCredenti\n",
      "root         122                              runni  Feb26         logind\n",
      "root         123                              runni  Feb26         revisiond\n",
      "root         124                              runni  Feb26         KernelEventAg\n",
      "root         126                              runni  Feb26         bluetoothd\n",
      "root         127                              runni  Feb26         notifyd\n",
      "root         129                              runni  Feb26         corebrightnes\n",
      "root         130                              runni  Feb26         AirPlayXPCHel\n",
      "root         132                              runni  Feb26         amfid\n",
      "root         133                              runni  Feb26         syspolicyd\n",
      "root         134                              runni  Feb26         cfprefsd\n",
      "root         135                              runni  Feb26         coreservicesd\n",
      "_analytic    138                              runni  Feb26         analyticsd\n",
      "root         139                              runni  Feb26         logd_helper\n",
      "root         140                              runni  Feb26         aslmanager\n",
      "root         141                              runni  Feb26         WindowServer\n",
      "root         142                              runni  Feb26         tccd\n",
      "root         171   0.2    4.5G   26.1M        runni  Feb26  00:52  /System/Libra\n",
      "root         177                              runni  Feb26         authd\n",
      "root         180                              runni  Feb26         distnoted\n",
      "root         181                              runni  Feb26         trustd\n",
      "root         184                              runni  Feb26         runningboardd\n",
      "root         193                              runni  Feb26         lsd\n",
      "root         208                              runni  Feb26         multiversed\n",
      "root         209                              runni  Feb26         com.apple.ifd\n",
      "root         210                              runni  Feb26         apfsd\n",
      "root         211                              runni  Feb26         airportd\n",
      "root         212                              runni  Feb26         usbd\n",
      "root         215                              runni  Feb26         nehelper\n",
      "_nsurlses    216                              runni  Feb26         nsurlsessiond\n",
      "_cmiodala    217                              runni  Feb26         VDCAssistant\n",
      "root         218                              runni  Feb26         backupd\n",
      "root         220                              runni  Feb26         bosreporter\n",
      "root         221                              runni  Feb26         mobileassetd\n",
      "root         222                              runni  Feb26         searchpartyd\n",
      "root         226                              runni  Feb26         tzd\n",
      "_software    236                              runni  Feb26         bosUpdateProx\n",
      "root         242                              runni  Feb26         awdd\n",
      "root         243                              runni  Feb26         diskmanagemen\n",
      "root         245                              runni  Feb26         smd\n",
      "_mdnsresp    246                              runni  Feb26         mDNSResponder\n",
      "_software    248                              runni  Feb26         softwareupdat\n",
      "root         250                              runni  Feb26         suhelperd\n",
      "_software    251                              runni  Feb26         distnoted\n",
      "_coreaudi    253                              runni  Feb26         distnoted\n",
      "root         254                              runni  Feb26         backupd-helpe\n",
      "root         255                              runni  Feb26         PowerUIAgent\n",
      "root         258                              runni  Feb26         corekdld\n",
      "root         259                              runni  Feb26         SubmitDiagInf\n",
      "root         262                              runni  Feb26         writeconfig\n",
      "root         265                              runni  Feb26         mDNSResponder\n",
      "_networkd    266                              runni  Feb26         symptomsd\n",
      "root         267                              runni  Feb26         findmydeviced\n",
      "_atsserve    268                              runni  Feb26         fontd\n",
      "_location    269                              runni  Feb26         com.apple.geo\n",
      "_location    270                              runni  Feb26         distnoted\n",
      "_location    272                              runni  Feb26         secinitd\n",
      "root         273                              runni  Feb26         mobileactivat\n",
      "_location    274                              runni  Feb26         cfprefsd\n",
      "root         276                              runni  Feb26         fontworker\n",
      "_location    278                              runni  Feb26         trustd\n",
      "root         280                              runni  Feb26         nessusd\n",
      "_location    284                              runni  Feb26         containermana\n",
      "root         289                              runni  Feb26         AudioComponen\n",
      "root         293                              runni  Feb26         rtcreportingd\n",
      "root         299                              runni  Feb26         ReportCrash\n",
      "root         373                              runni  Feb26         XprotectServi\n",
      "root         376                              runni  Feb26         iconservicesa\n",
      "root         378                              runni  Feb26         siriinference\n",
      "root         380                              runni  Feb26         CVMServer\n",
      "_cvmsroot    382                              runni  Feb26         distnoted\n",
      "root         385                              runni  Feb26         biometrickitd\n",
      "root         386                              runni  Feb26         cacheAssistan\n",
      "root         387                              runni  Feb26         secinitd\n",
      "root         388                              runni  Feb26         containermana\n",
      "root         398                              runni  Feb26         com.apple.Cod\n",
      "root         399                              runni  Feb26         PlugInLibrary\n",
      "root         400                              runni  Feb26         mds_stores\n",
      "_spotligh    414                              runni  Feb26         distnoted\n",
      "root         420                              runni  Feb26         com.apple.Mob\n",
      "root         422                              runni  Feb26         thermald\n",
      "_hidd        423                              runni  Feb26         hidd\n",
      "_windowse    425                              runni  Feb26         distnoted\n",
      "root         427                              runni  Feb26         biokitaggdd\n",
      "_applepay    428                              runni  Feb26         nfcd\n",
      "root         432                              runni  Feb26         wifianalytics\n",
      "root         442                              runni  Feb26         akd\n",
      "root         444                              runni  Feb26         TouchBarServe\n",
      "root         452                              runni  Feb26         colorsync.dis\n",
      "root         454                              runni  Feb26         colorsyncd\n",
      "_appleeve    455                              runni  Feb26         appleeventsd\n",
      "root         459                              runni  Feb26         bootinstalld\n",
      "root         460                              runni  Feb26         ViewBridgeAux\n",
      "root         463                              runni  Feb26         sysmond\n",
      "_fpsd        464                              runni  Feb26         adid\n",
      "root         465                              runni  Feb26         com.apple.Acc\n",
      "_captivea    466                              runni  Feb26         captiveagent\n",
      "root         467                              runni  Feb26         systemstats\n",
      "root         470                              runni  Feb26         com.apple.cmi\n",
      "root         477                              runni  Feb26         coreauthd\n",
      "rorymclea    478   0.0    4.2G    2.7M        runni  Feb26  00:47  /usr/sbin/dis\n",
      "root         479                              runni  Feb26         securityd_ser\n",
      "rorymclea    480   0.0    4.3G    3.0M        runni  Feb26  00:01  /System/Libra\n",
      "rorymclea    481   0.0    4.3G    6.5M        runni  Feb26  04:32  /usr/sbin/cfp\n",
      "rorymclea    483   0.2    4.3G   25.4M        runni  Feb26  01:01  /usr/libexec/\n",
      "rorymclea    484   0.0    4.3G    4.6M        runni  Feb26  00:01  /System/Libra\n",
      "rorymclea    486   0.0    4.3G    6.7M        runni  Feb26  01:18  /usr/libexec/\n",
      "rorymclea    488   0.0    4.3G    7.0M        runni  Feb26  00:04  /System/Libra\n",
      "rorymclea    489   0.1    4.3G    8.3M        runni  Feb26  00:08  /usr/libexec/\n",
      "rorymclea    492   0.0    4.3G    1.4M        runni  Feb26  00:00  /System/Libra\n",
      "rorymclea    493   0.0    4.3G    6.2M        runni  Feb26  00:34  /usr/libexec/\n",
      "rorymclea    495   0.1    4.3G   13.2M        runni  Feb26  00:35  /System/Libra\n",
      "rorymclea    496   0.0    4.3G    5.7M        runni  Feb26  00:12  /System/Libra\n",
      "rorymclea    497   0.0    4.3G  368.0K        runni  Feb26  00:00  /System/Libra\n",
      "rorymclea    498   0.0    4.3G    1.0M        runni  Feb26  00:00  /usr/libexec/\n",
      "rorymclea    499   0.1    4.3G   10.2M        runni  Feb26  00:54  /usr/libexec/\n",
      "rorymclea    500   0.0    4.3G    8.2M        runni  Feb26  00:17  /usr/libexec/\n",
      "rorymclea    501   0.2    4.3G   24.8M        runni  Feb26  01:14  /System/Libra\n",
      "rorymclea    502   0.2    4.9G   25.9M        runni  Feb26  00:43  /System/Libra\n",
      "rorymclea    503   0.1    4.3G    9.2M        runni  Feb26  00:06  /usr/sbin/use\n",
      "rorymclea    504   0.1    4.3G   12.9M        runni  Feb26  00:53  /usr/libexec/\n",
      "rorymclea    505   0.0    4.3G    5.8M        runni  Feb26  00:06  /usr/libexec/\n",
      "root         506                              runni  Feb26         com.apple.Amb\n",
      "rorymclea    507   0.1    4.3G   13.3M        runni  Feb26  03:05  /usr/libexec/\n",
      "rorymclea    508   0.1    4.3G   14.7M        runni  Feb26  00:24  /System/Libra\n",
      "rorymclea    509   0.0    4.3G    6.2M        runni  Feb26  00:06  /System/Libra\n",
      "rorymclea    510   0.0    4.3G    4.2M        runni  Feb26  00:07  /usr/libexec/\n",
      "rorymclea    511   0.1    4.3G    9.8M        runni  Feb26  00:07  /System/Libra\n",
      "rorymclea    512   0.1    4.5G   12.3M        runni  Feb26  01:08  /System/Libra\n",
      "rorymclea    515   0.1    4.3G   20.1M        runni  Feb26  00:22  /System/Libra\n",
      "rorymclea    516   0.0    4.3G    1.7M        runni  Feb26  00:00  /usr/libexec/\n",
      "rorymclea    517   0.0    4.3G    7.6M        runni  Feb26  00:07  /System/Libra\n",
      "rorymclea    518   0.0    4.3G    3.1M        runni  Feb26  00:02  /usr/libexec/\n",
      "rorymclea    520   0.1    4.3G   16.3M        runni  Feb26  00:23  /System/Libra\n",
      "rorymclea    521   0.1    4.3G    9.5M        runni  Feb26  00:21  /usr/libexec/\n",
      "root         522                              runni  Feb26         WirelessRadio\n",
      "rorymclea    523   0.0    4.3G    7.6M        runni  Feb26  00:09  /System/Libra\n",
      "rorymclea    528   0.1    4.4G   15.1M        runni  Feb26  00:07  /System/Libra\n",
      "rorymclea    529   0.0    4.3G    3.1M        runni  Feb26  00:00  /System/Libra\n",
      "rorymclea    530   0.1    4.3G   20.6M        runni  Feb26  00:42  /System/Libra\n",
      "rorymclea    531   0.1    4.3G   20.8M        runni  Feb26  00:10  /System/Libra\n",
      "_nsurlses    532                              runni  Feb26         distnoted\n",
      "rorymclea    533   0.2    4.4G   39.5M        runni  Feb26  05:45  /System/Libra\n",
      "rorymclea    534   0.0    4.3G  656.0K        runni  Feb26  00:00  /System/Libra\n",
      "rorymclea    535   0.1    4.3G    9.4M        runni  Feb26  00:14  /System/Libra\n",
      "rorymclea    536   0.0    4.3G    2.7M        runni  Feb26  00:00  /System/Libra\n",
      "rorymclea    537   0.0    4.3G    5.8M        runni  Feb26  00:05  /System/Libra\n",
      "rorymclea    538   0.1    4.3G    9.4M        runni  Feb26  00:41  /System/Libra\n",
      "rorymclea    539   0.0    4.2G    8.0K        runni  Feb26  00:00  /System/Libra\n",
      "rorymclea    540   0.0    4.3G    5.4M        runni  Feb26  00:01  /usr/libexec/\n",
      "rorymclea    541   0.0    4.3G    4.1M        runni  Feb26  00:08  /System/Libra\n",
      "root         542                              runni  Feb26         morphunassets\n",
      "rorymclea    544   0.0    4.3G    7.0M        runni  Feb26  00:05  /System/Libra\n",
      "_fpsd        545                              runni  Feb26         fairplayd\n",
      "rorymclea    546   0.0    4.3G    1.1M        runni  Feb26  00:00  /System/Libra\n",
      "rorymclea    548   0.0    4.3G    1.9M        runni  Feb26  00:42  /System/Libra\n",
      "rorymclea    549   0.0    4.3G    3.6M        runni  Feb26  00:00  /System/Libra\n",
      "rorymclea    550   0.0    4.9G    5.4M        runni  Feb26  00:02  /System/Libra\n",
      "rorymclea    551   0.1    5.2G   18.7M        runni  Feb26  07:07  /System/Libra\n",
      "rorymclea    552   0.0    4.3G    7.6M        runni  Feb26  04:49  /System/Libra\n",
      "rorymclea    553   0.2    6.8G   25.2M        runni  Feb26  06:22  /System/Libra\n",
      "rorymclea    556   0.0    4.3G    1.5M        runni  Feb26  00:00  /System/Libra\n",
      "rorymclea    558   0.0    4.3G    5.0M        runni  Feb26  00:02  /System/Libra\n",
      "rorymclea    559   0.0    4.3G    4.3M        runni  Feb26  00:37  /System/Libra\n",
      "rorymclea    560   0.0    4.3G    2.1M        runni  Feb26  00:00  /usr/libexec/\n",
      "rorymclea    562   0.0    4.3G    1.6M        runni  Feb26  00:02  /System/Libra\n",
      "rorymclea    563   0.0    4.3G    7.3M        runni  Feb26  00:10  /usr/libexec/\n",
      "rorymclea    564   0.0    4.3G    1.9M        runni  Feb26  00:03  /System/Libra\n",
      "rorymclea    565   0.0    4.3G    2.6M        runni  Feb26  00:03  /System/Libra\n",
      "_assetcac    566                              runni  Feb26         AssetCache\n",
      "rorymclea    567   0.0    4.3G    1.0M        runni  Feb26  00:00  /usr/libexec/\n",
      "_assetcac    568                              runni  Feb26         distnoted\n",
      "root         569                              runni  Feb26         AssetCacheTet\n",
      "rorymclea    570   0.0    4.3G    8.1M        runni  Feb26  00:04  /usr/libexec/\n",
      "rorymclea    571   0.0    4.3G    1.0M        runni  Feb26  00:01  /System/iOSSu\n",
      "rorymclea    572   0.0    4.3G    3.9M        runni  Feb26  00:02  /usr/libexec/\n",
      "_appleeve    573                              runni  Feb26         distnoted\n",
      "rorymclea    574   0.0    4.3G  832.0K        runni  Feb26  00:00  /System/Libra\n",
      "root         576                              runni  Feb26         wifivelocityd\n",
      "rorymclea    578   0.0    4.3G    5.8M        runni  Feb26  00:22  /usr/libexec/\n",
      "rorymclea    580   0.0    4.3G    1.1M        runni  Feb26  00:00  /System/Libra\n",
      "root         583                              runni  Feb26         systemsoundse\n",
      "rorymclea    584   0.2    4.5G   25.5M        runni  Feb26  00:19  /System/Libra\n",
      "root         586                              runni  Feb26         filecoordinat\n",
      "_applepay    588                              runni  Feb26         seld\n",
      "rorymclea    589   0.0    4.3G    6.2M        runni  Feb26  00:03  /System/Libra\n",
      "root         590                              runni  Feb26         com.apple.his\n",
      "rorymclea    591   0.3    4.5G   49.0M        runni  Feb26  01:38  /System/Libra\n",
      "_applepay    593                              runni  Feb26         distnoted\n",
      "root         594                              runni  Feb26         spindump\n",
      "rorymclea    595   0.0    4.3G  660.0K        runni  Feb26  00:00  /usr/libexec/\n",
      "rorymclea    600   0.0    4.5G    6.7M        runni  Feb26  00:03  /System/Libra\n",
      "rorymclea    602   0.0    4.4G    3.2M        runni  Feb26  00:00  /System/Libra\n",
      "rorymclea    603   0.0    4.5G    5.7M        runni  Feb26  00:02  /System/Libra\n",
      "rorymclea    604   0.0    4.3G    3.3M        runni  Feb26  00:05  /System/Libra\n",
      "root         605                              runni  Feb26         CrashReporter\n",
      "rorymclea    608   0.0    4.3G    5.0M        runni  Feb26  00:05  /System/Libra\n",
      "rorymclea    609   0.0    4.3G    3.5M        runni  Feb26  00:01  /System/Libra\n",
      "rorymclea    612   0.0    4.3G    3.8M        runni  Feb26  00:02  /System/Libra\n",
      "rorymclea    613   0.0    4.3G    4.1M        runni  Feb26  00:01  /System/Libra\n",
      "root         628                              runni  Feb26         system_instal\n",
      "_assetcac    629                              runni  Feb26         AssetCacheLoc\n",
      "rorymclea    630   0.0    4.3G    2.6M        runni  Feb26  00:02  cloudphotod\n",
      "rorymclea    631   0.0    4.3G    5.0M        runni  Feb26  00:04  /System/Libra\n",
      "rorymclea    632   0.0    4.4G    6.6M        runni  Feb26  00:11  /System/Libra\n",
      "rorymclea    640   0.0    4.3G    2.8M        runni  Feb26  00:00  /System/Libra\n",
      "_appinsta    641                              runni  Feb26         appinstalld\n",
      "root         642                              runni  Feb26         com.apple.Mob\n",
      "_appinsta    643                              runni  Feb26         distnoted\n",
      "rorymclea    644   0.0    4.2G    8.0K        runni  Feb26  00:00  /System/Libra\n",
      "rorymclea    645   0.0    4.3G    2.9M        runni  Feb26  00:00  /System/Libra\n",
      "rorymclea    647   0.0    4.7G    5.1M        runni  Feb26  00:10  /System/Libra\n",
      "rorymclea    649   0.1    5.1G    9.5M        runni  Feb26  00:47  /System/Libra\n",
      "rorymclea    651   0.0    4.3G    1.3M        runni  Feb26  00:02  /usr/libexec/\n",
      "rorymclea    655   0.0    4.3G    4.5M        runni  Feb26  00:02  /System/Libra\n",
      "_ctkd        656                              runni  Feb26         ctkd\n",
      "rorymclea    666   0.0    4.3G    5.8M        runni  Feb26  00:57  /System/Libra\n",
      "rorymclea    667   0.0    4.3G  456.0K        runni  Feb26  00:01  /System/Libra\n",
      "rorymclea    668   0.0    4.3G    4.2M        runni  Feb26  00:03  /System/Libra\n",
      "rorymclea    669   0.0    4.3G    1.6M        runni  Feb26  00:00  /System/Libra\n",
      "rorymclea    671   0.1    4.3G   14.3M        runni  Feb26  02:18  /System/Libra\n",
      "rorymclea    672   0.1    4.3G   14.5M        runni  Feb26  03:13  /usr/libexec/\n",
      "rorymclea    675   0.0    4.2G    8.0K        runni  Feb26  00:00  /System/Libra\n",
      "rorymclea    676   0.1    4.8G    9.8M        runni  Feb26  00:03  /System/Appli\n",
      "rorymclea    677   0.1    4.7G   17.7M        runni  Feb26  01:27  /System/Appli\n",
      "rorymclea    679   0.0    4.3G    1.5M        runni  Feb26  00:00  /System/Libra\n",
      "rorymclea    680   0.0    4.5G    5.4M        runni  Feb26  00:02  /System/Libra\n",
      "root         692                              runni  Feb26         nesessionmana\n",
      "root         694                              runni  Feb26         sysextd\n",
      "root         698                              runni  Feb26         aned\n",
      "root         699                              runni  Feb26         online-authd\n",
      "rorymclea    704   0.0    4.7G    8.0K        runni  Feb26  00:00  /Applications\n",
      "rorymclea    713   0.0    4.2G    8.0K        runni  Feb26  00:00  /System/Libra\n",
      "_reportme    715                              runni  Feb26         distnoted\n",
      "_spotligh    731                              runni  Feb26         trustd\n",
      "_spotligh    732                              runni  Feb26         mdworker\n",
      "rorymclea    750   0.0    4.3G  384.0K        runni  Feb26  00:28  /System/Libra\n",
      "rorymclea   1238   0.1    4.3G   15.8M        runni  Feb26  00:15  /System/Libra\n",
      "_installc   1239                              runni  Feb26         installcoordi\n",
      "root        1240                              runni  Feb26         com.apple.App\n",
      "rorymclea   1242   0.0    4.3G    1.5M        runni  Feb26  00:00  /System/Libra\n",
      "rorymclea   1259   0.0    4.3G    1.1M        runni  Feb26  00:02  /System/Libra\n",
      "rorymclea   1260   0.1    4.9G   10.9M        runni  Feb26  00:09  /System/Libra\n",
      "rorymclea   1261   0.0    4.3G    5.2M        runni  Feb26  00:13  /System/Libra\n",
      "rorymclea   1262   0.1    4.3G    9.3M        runni  Feb26  00:05  /System/Libra\n",
      "rorymclea   1264   0.0    4.3G    3.9M        runni  Feb26  00:01  /usr/libexec/\n",
      "_datadete   1265                              runni  Feb26         DataDetectors\n",
      "rorymclea   1345   0.1    4.3G    8.5M    17  runni  Feb26  00:11  /System/Libra\n",
      "_spotligh   1346                          17  runni  Feb26         mdbulkimport\n",
      "root        1347                              runni  Feb26         installerdiag\n",
      "_spotligh   1349                              runni  Feb26         pkd\n",
      "_spotligh   1352                              runni  Feb26         containermana\n",
      "_fpsd       1610                              runni  Feb26         lskdd\n",
      "rorymclea   1612   0.1    4.3G   11.8M        runni  Feb26  00:10  /System/Libra\n",
      "rorymclea   1613   0.0    4.3G    1.7M        runni  Feb26  00:00  /System/Libra\n",
      "rorymclea   1614   0.0    4.3G  396.0K        runni  Feb26  00:00  /System/Libra\n",
      "rorymclea   1615   0.1    4.3G   12.7M        runni  Feb26  00:30  /System/Libra\n",
      "rorymclea   1616   0.0    4.2G    8.0K        runni  Feb26  00:00  /System/Libra\n",
      "rorymclea   1620   0.1    4.8G   19.7M        runni  Feb26  00:56  /System/Libra\n",
      "rorymclea   1621   0.1    4.9G   20.4M        runni  Feb26  02:25  /System/Libra\n",
      "rorymclea   1622   0.1    4.9G   19.6M        runni  Feb26  03:19  /System/Libra\n",
      "rorymclea   1623   1.0    5.5G  164.9M        runni  Feb26  08:05  /System/Libra\n",
      "rorymclea   1627   0.0    5.0G    3.8M        runni  Feb26  00:05  /System/Libra\n",
      "rorymclea   1628   0.0    4.3G  520.0K        runni  Feb26  00:00  /System/Libra\n",
      "rorymclea   1632   0.0    4.3G    2.3M        runni  Feb26  00:00  /System/Libra\n",
      "rorymclea   1633   0.0    4.3G    2.7M        runni  Feb26  00:01  /System/Libra\n",
      "rorymclea   1644   0.0    4.3G    7.0M        runni  Feb26  00:06  /usr/libexec/\n",
      "rorymclea   1650   0.0    4.8G    6.8M        runni  Feb26  00:03  /System/Libra\n",
      "rorymclea   1651   0.0    4.6G    8.0K        runni  Feb26  00:00  SafeEjectGPUA\n",
      "rorymclea   1652   0.0    4.3G  420.0K        runni  Feb26  00:00  /System/Libra\n",
      "rorymclea   1653   0.0    4.3G 1004.0K        runni  Feb26  00:00  /System/Libra\n",
      "root        1658                              runni  Feb26         misagent\n",
      "_gamecont   1669                              runni  Feb26         gamecontrolle\n",
      "rorymclea   1670   0.0    4.3G    3.0M        runni  Feb26  00:15  /System/Libra\n",
      "rorymclea   1675   0.0    4.9G    6.6M        runni  Feb26  01:42  /System/Libra\n",
      "rorymclea   1676   0.0    4.3G    4.2M        runni  Feb26  00:14  /System/Libra\n",
      "rorymclea   1677   0.0    4.3G    2.9M        runni  Feb26  00:08  /System/Libra\n",
      "rorymclea   1679   0.0    4.7G    5.3M        runni  Feb26  00:03  /System/Libra\n",
      "rorymclea   1680   0.0    4.3G    3.7M        runni  Feb26  00:44  /System/Libra\n",
      "rorymclea   1682   0.0    4.3G    4.6M        runni  Feb26  00:04  /System/Libra\n",
      "rorymclea   1683   0.0    4.9G    6.3M        runni  Feb26  00:05  /System/Libra\n",
      "rorymclea   1684   0.0    4.3G    4.4M        runni  Feb26  00:11  /System/Libra\n",
      "root        1685                              runni  Feb26         ctkahp\n",
      "root        1687                              runni  Feb26         taskgated\n",
      "rorymclea   1690   0.0    4.3G  964.0K        runni  Feb26  00:00  /System/Libra\n",
      "rorymclea   1692   0.0    4.3G    5.3M        runni  Feb26  00:03  /System/Libra\n",
      "rorymclea   1728   0.0    4.3G    3.7M        runni  Feb26  00:01  /usr/libexec/\n",
      "rorymclea   1729   0.0    4.3G    2.5M        runni  Feb26  00:00  /usr/libexec/\n",
      "rorymclea   1731   0.0    4.3G  380.0K        runni  Feb26  00:00  /usr/libexec/\n",
      "root        1760                              runni  Feb26         coresymbolica\n",
      "rorymclea   1894   0.0    4.1G    8.0K        runni  Feb26  00:00  /usr/bin/ssh-\n",
      "rorymclea   2154   0.0    4.9G    6.3M        runni  Feb26  00:36  /System/Libra\n",
      "rorymclea   2574   0.0    4.7G    2.1M        runni  Feb26  00:00  /usr/libexec/\n",
      "rorymclea   2678   0.0    4.3G    1.2M        runni  Feb26  00:55  /Library/Appl\n",
      "rorymclea   2684   0.0    4.2G  428.0K        runni  Feb26  00:00  /System/Libra\n",
      "rorymclea   2690   0.1    4.9G   20.1M        runni  Feb26  02:57  /System/Libra\n",
      "rorymclea   2692   0.0    4.7G    8.0M        runni  Feb26  00:02  /System/Libra\n",
      "rorymclea   2730   0.3    4.7G   48.1M        runni  Feb26  00:27  /System/Libra\n",
      "rorymclea   2839   0.1    4.8G   20.1M        runni  Feb26  00:23  /System/Appli\n",
      "rorymclea   2840   0.1    4.7G   11.6M        runni  Feb26  01:30  /System/Libra\n",
      "rorymclea   2865   0.0    4.7G    6.3M        runni  Feb26  00:03  /System/Libra\n",
      "rorymclea   2919   0.0    4.3G  516.0K        runni  Feb26  00:00  /usr/libexec/\n",
      "rorymclea   2947   0.0    4.4G    6.5M        runni  Feb26  00:12  /System/Libra\n",
      "rorymclea   2956   0.0    4.7G    7.2M        runni  Feb26  00:03  /System/Libra\n",
      "rorymclea   3037   0.0    4.7G  764.0K        runni  Feb26  00:02  /System/Libra\n",
      "nobody      3102                              runni  Feb26         distnoted\n",
      "root        3109                              runni  Feb26         CAReportingSe\n",
      "rorymclea   3264   0.0    4.3G  796.0K        runni  Feb26  00:00  /System/Libra\n",
      "rorymclea   3266   0.0    4.3G    2.3M        runni  Feb26  00:03  /System/Libra\n",
      "rorymclea   3267   0.0    4.2G    8.0K        runni  Feb26  00:00  /System/Libra\n",
      "rorymclea   3269   0.0    4.9G    6.1M        runni  Feb26  00:18  /System/Libra\n",
      "rorymclea   3270   0.0    4.2G    8.0K        runni  Feb26  00:00  /System/Libra\n",
      "_coreaudi   3476                              runni  Feb27         coreaudiod\n",
      "_coreaudi   3481                              runni  Feb27         com.apple.aud\n",
      "_coreaudi   3482                              runni  Feb27         com.apple.aud\n",
      "_coreaudi   3483                              runni  Feb27         com.apple.aud\n",
      "rorymclea   3509   0.0    4.3G    3.5M        runni  Feb27  00:02  /usr/libexec/\n",
      "root        3524                              runni  Feb27         com.apple.aud\n",
      "rorymclea   3537   0.0    4.3G  400.0K        runni  Feb27  00:00  /System/Libra\n",
      "root        3685                              runni  Feb27         aslmanager\n",
      "rorymclea   3772   0.0    4.3G  972.0K        runni  Feb27  00:00  /System/Libra\n",
      "rorymclea   3776   0.0    4.3G    2.9M        runni  Feb27  00:00  /System/Libra\n",
      "rorymclea   3777   0.0    4.2G    2.1M        runni  Feb27  00:00  /System/Libra\n",
      "rorymclea   3877   0.0    4.3G    2.1M        runni  Feb27  00:00  /System/Libra\n",
      "rorymclea   3935   0.0    4.3G  408.0K        runni  Feb27  00:00  /System/Libra\n",
      "rorymclea   3936   0.0    4.2G    8.0K        runni  Feb27  00:00  /System/Libra\n",
      "rorymclea   3937   0.0    4.3G    4.3M        runni  Feb27  00:00  /System/Libra\n",
      "rorymclea   3939   0.0    4.3G    2.7M        runni  Feb27  00:00  /System/Libra\n",
      "rorymclea   4002   0.0    4.2G  552.0K        runni  Feb27  00:00  /System/Libra\n",
      "rorymclea   4003   0.0    4.8G    7.2M        runni  Feb27  00:08  /System/Libra\n",
      "rorymclea   4004   0.0    4.3G    2.2M        runni  Feb27  00:00  /System/Libra\n",
      "rorymclea   4005   0.2    4.5G   33.1M        runni  Feb27  02:10  /System/Libra\n",
      "root        4006                              runni  Feb27         deleted_helpe\n",
      "rorymclea   4007   0.0    4.3G    1.5M        runni  Feb27  00:00  /usr/libexec/\n",
      "root        4009                              runni  Feb27         symptomsd-dia\n",
      "root        4010                              runni  Feb27         installd\n",
      "rorymclea   4011   0.0    4.3G    1.3M        runni  Feb27  00:00  /System/Libra\n",
      "rorymclea   4012   0.0    4.3G    3.3M        runni  Feb27  00:00  /System/Appli\n",
      "rorymclea   4013   0.0    4.3G    3.4M        runni  Feb27  00:00  /System/Appli\n",
      "rorymclea   4014   0.0    4.3G    3.9M        runni  Feb27  00:00  /Applications\n",
      "rorymclea   4015   0.0    4.3G  476.0K        runni  Feb27  00:00  /System/Libra\n",
      "rorymclea   4017   0.0    4.2G    8.0K        runni  Feb27  00:00  /System/Libra\n",
      "rorymclea   4018   0.0    4.3G  532.0K        runni  Feb27  00:00  /System/Libra\n",
      "_driverki   4048                              runni  Feb27         com.apple.App\n",
      "_driverki   4049                              runni  Feb27         com.apple.App\n",
      "_driverki   4050                              runni  Feb27         com.apple.App\n",
      "_driverki   4051                              runni  Feb27         com.apple.App\n",
      "_driverki   4052                              runni  Feb27         com.apple.App\n",
      "_driverki   4057                              runni  Feb27         com.apple.App\n",
      "_windowse   4210                              runni  Feb27         MTLCompilerSe\n",
      "_windowse   4211                              runni  Feb27         MTLCompilerSe\n",
      "rorymclea   4294   0.0    4.3G    5.4M        runni  Feb27  00:08  /System/Libra\n",
      "root        4305                              runni  Feb27         dprivacyd\n",
      "rorymclea   4307   0.0    4.3G    1.4M        runni  Feb27  00:00  /System/Libra\n",
      "rorymclea   4310   0.1    4.5G   22.3M        runni  Feb27  00:06  /System/Libra\n",
      "root        4311                              runni  Feb27         nbstated\n",
      "root        4312                              runni  Feb27         microstacksho\n",
      "root        4313                           1  runni  Feb27         periodic-wrap\n",
      "rorymclea   4394   0.0    4.2G  740.0K        runni  Feb27  00:00  /System/Libra\n",
      "root        4397                              runni  Feb27         sysdiagnose\n",
      "root        4398                              runni  Feb27         cloudd\n",
      "rorymclea   4399   0.0    4.3G    3.6M        runni  Feb27  00:00  /System/Appli\n",
      "root        4404                              runni  Feb27         storagekitd\n",
      "rorymclea   4405   0.0    4.3G    3.6M        runni  Feb27  00:00  /System/Libra\n",
      "rorymclea   4406   0.0    4.3G  400.0K        runni  Feb27  00:00  /System/Libra\n",
      "rorymclea   4407   0.0    4.3G  524.0K        runni  Feb27  00:00  /System/Libra\n",
      "root        4873                              runni  Feb27         DPSubmissionS\n",
      "rorymclea   4875   0.0    4.3G    3.2M        runni  Feb27  00:00  /System/Libra\n",
      "rorymclea   4971   0.0    4.3G    4.6M        runni  Feb27  00:02  /Users/rorymc\n",
      "rorymclea   5459   0.1    4.9G   12.8M        runni  Feb27  00:09  /Applications\n",
      "rorymclea   5471   0.1    5.0G   11.9M        runni  Feb27  01:12  /Applications\n",
      "rorymclea   5472   0.0    5.0G    6.5M        runni  Feb27  00:27  /Applications\n",
      "rorymclea   5478   0.0    4.1G  168.0K        runni  Feb27  00:00  com.docker.os\n",
      "rorymclea   5479   0.1    4.3G   18.1M        runni  Feb27  01:55  com.docker.vp\n",
      "rorymclea   5480   0.1    4.8G    9.1M        runni  Feb27  12:33  vpnkit-bridge\n",
      "rorymclea   5481   0.1    5.0G    9.9M        runni  Feb27  01:30  com.docker.dr\n",
      "rorymclea   5482   0.0    4.8G    7.4M        runni  Feb27  00:32  docker serve \n",
      "rorymclea   5483                              zombi  Feb27         uname\n",
      "rorymclea   5500   0.0   12.3G    6.9M        runni  Feb27  23:24  com.docker.hy\n",
      "rorymclea   5656   0.0    4.7G  368.0K        runni  Feb27  00:00  /System/Libra\n",
      "rorymclea   5657   0.0    4.7G  356.0K        runni  Feb27  00:00  /System/Libra\n",
      "rorymclea   5658   0.0    4.6G    8.0K        runni  Feb27  00:00  /System/Libra\n",
      "rorymclea   5659   0.0    4.6G    8.0K        runni  Feb27  00:00  /System/Libra\n",
      "rorymclea   5883   0.0    4.3G    1.3M        runni  Feb27  00:00  /System/Libra\n",
      "rorymclea   9683   0.0    4.3G  416.0K        runni  Feb28  00:00  /System/Libra\n",
      "rorymclea   9685   0.0    4.2G  396.0K        runni  Feb28  00:00  /System/Libra\n",
      "rorymclea   9757   0.1    4.3G   22.8M        runni  Feb28  01:05  /System/Libra\n",
      "root       10045                           1  runni  Feb28         periodic-wrap\n",
      "rorymclea  10133   0.0    4.9G    5.6M        runni  Feb28  00:03  /System/Libra\n",
      "root       11121                              runni  Feb28         applessdstati\n",
      "rorymclea  18198   0.0    4.3G  984.0K        runni  Mar02  00:00  /System/Libra\n",
      "rorymclea  18664   0.0    4.3G  800.0K        runni  Mar02  00:00  /System/Libra\n",
      "root       19138                              runni  Mar02         VTEncoderXPCS\n",
      "rorymclea  21039   0.1    4.3G   16.6M        runni  Mar02  00:51  /System/Libra\n",
      "rorymclea  21044   0.0    4.3G  340.0K        runni  Mar02  00:00  /System/Libra\n",
      "_netbios   21079                          20  runni  Mar02         netbiosd\n",
      "root       24263                              runni  Mar02         PlugInLibrary\n",
      "rorymclea  24266   0.0    4.2G    8.0K        runni  Mar02  00:00  /System/Libra\n",
      "rorymclea  25350   0.0    4.2G    8.0K        runni  Mar03  00:00  /System/Libra\n",
      "_nsurlses  26675                              runni  Mar03         com.apple.Str\n",
      "rorymclea  27145   0.0    4.2G    8.0K        runni  Mar03  00:00  /System/Libra\n",
      "rorymclea  27358   0.0    4.3G  792.0K        runni  Mar03  00:00  /System/Libra\n",
      "rorymclea  29644   0.0    4.3G  808.0K        runni  Mar03  00:00  /System/Libra\n",
      "rorymclea  29832   0.1    4.3G    9.7M        runni  Mar03  00:13  /System/Libra\n",
      "rorymclea  32952   0.0    4.2G    8.0K        runni  Mar04  00:00  /System/Libra\n",
      "rorymclea  39238   4.0    6.6G  649.8M        runni  01:30  04:09  /Applications\n",
      "rorymclea  39287   1.5    5.3G  251.5M        runni  01:36  03:45  /Applications\n",
      "rorymclea  39296   0.0    4.2G  592.0K        runni  01:36  00:00  /Applications\n",
      "rorymclea  39305   1.0    5.1G  164.7M        runni  01:36  01:38  /Applications\n",
      "rorymclea  39306   0.3    4.5G   41.1M        runni  01:36  00:18  /Applications\n",
      "rorymclea  39307   0.1    4.5G   13.1M        runni  01:36  00:00  /Applications\n",
      "rorymclea  39308   0.0    4.3G    7.4M        runni  01:36  00:00  /Applications\n",
      "rorymclea  39310   0.0    4.3G  516.0K        runni  01:36  00:00  /System/Libra\n",
      "rorymclea  39320   0.1    8.6G   15.2M        runni  01:36  00:00  /Applications\n",
      "rorymclea  39321   0.3    8.6G   53.3M        runni  01:36  00:02  /Applications\n",
      "rorymclea  39322   0.1    8.6G   19.8M        runni  01:36  00:14  /Applications\n",
      "rorymclea  39324   0.1    8.6G   17.4M        runni  01:36  00:00  /Applications\n",
      "rorymclea  39325   0.5    8.7G   88.0M        runni  01:36  00:15  /Applications\n",
      "rorymclea  39326   0.1    8.6G   16.2M        runni  01:36  00:00  /Applications\n",
      "rorymclea  39327   0.4    8.6G   61.5M        runni  01:36  00:05  /Applications\n",
      "rorymclea  39328   0.1    8.6G   17.3M        runni  01:36  00:00  /Applications\n",
      "rorymclea  39390   0.0    4.6G    8.0K        runni  01:49  00:00  /System/Libra\n",
      "rorymclea  39391   0.0    4.6G    8.0K        runni  01:49  00:00  /System/Libra\n",
      "rorymclea  39621   0.0    4.5G    3.8M        runni  02:02  00:02  /Applications\n",
      "rorymclea  39622   0.0    4.2G    8.0K        runni  02:02  00:00  /System/Libra\n",
      "_driverki  39816                              runni  09:05         com.apple.App\n",
      "_driverki  39817                              runni  09:05         com.apple.App\n",
      "_driverki  39818                              runni  09:05         com.apple.App\n",
      "_driverki  39819                              runni  09:05         com.apple.App\n",
      "_driverki  39820                              runni  09:05         com.apple.App\n",
      "_driverki  39822                              runni  09:05         com.apple.App\n",
      "rorymclea  39837   0.1    4.3G   18.4M        runni  09:05  00:00  /usr/libexec/\n",
      "root       39842                              runni  09:05         sandboxd\n",
      "rorymclea  39885   0.9    5.3G  146.5M        runni  09:07  01:29  /System/Appli\n",
      "rorymclea  39888   0.1    4.3G    8.2M        runni  09:07  00:00  /System/Libra\n",
      "rorymclea  39895   0.9    8.7G  154.4M        runni  09:09  00:11  /Applications\n",
      "rorymclea  39900   0.1    4.9G   15.6M        runni  09:09  00:00  /System/Libra\n",
      "rorymclea  39941   0.8    8.6G  129.5M        runni  09:14  00:10  /Applications\n",
      "root       40166                           1  runni  09:35         periodic-wrap\n",
      "rorymclea  40227   0.1    4.2G   10.1M        runni  09:41  00:00  /System/Libra\n",
      "root       40458                              runni  10:18         PerfPowerServ\n",
      "rorymclea  40517   0.5    5.0G   77.4M        runni  10:23  00:06  /System/Libra\n",
      "rorymclea  40518   0.1    4.7G   11.2M        runni  10:23  00:00  /System/Libra\n",
      "rorymclea  40528   0.0    4.2G    1.8M        runni  10:24  00:00  /System/Libra\n",
      "rorymclea  40550   0.4    5.0G   64.4M        runni  10:24  00:05  /System/Appli\n",
      "rorymclea  40551                              runni  10:24         login\n",
      "rorymclea  40552   0.0    4.1G    1.7M        runni  10:24  00:00  -bash\n",
      "rorymclea  40596   1.2   16.7G  193.2M        runni  10:27  00:16  /Applications\n",
      "rorymclea  40599   1.1    8.7G  172.2M        runni  10:27  00:20  /Applications\n",
      "rorymclea  40600   0.7    8.7G  121.3M        runni  10:27  00:02  /Applications\n",
      "rorymclea  40603   0.8   12.7G  137.7M        runni  10:28  00:12  /Applications\n",
      "rorymclea  40605   0.6    8.6G   90.8M        runni  10:28  00:03  /Applications\n",
      "rorymclea  40617   0.4    8.6G   68.3M        runni  10:28  00:02  /Applications\n",
      "rorymclea  40618   0.5    8.6G   74.5M        runni  10:28  00:01  /Applications\n",
      "rorymclea  40621   1.2   12.9G  202.9M        runni  10:28  00:06  /Applications\n",
      "rorymclea  40697   0.4    4.2G   72.2M        runni  10:35  00:03  /usr/local/Ce\n",
      "rorymclea  40702   0.7    8.6G  107.0M        runni  10:35  00:01  /Applications\n",
      "rorymclea  40704   1.3    8.8G  210.8M        runni  10:35  00:47  /Applications\n",
      "rorymclea  40708   0.4    4.6G   67.8M        runni  10:35  00:02  /usr/local/Ce\n",
      "rorymclea  40715   1.0    8.8G  165.0M        runni  10:36  00:21  /Applications\n",
      "rorymclea  40716   0.2    8.6G   32.7M        runni  10:36  00:00  /Applications\n",
      "rorymclea  40769   0.1    4.3G   12.6M        runni  10:45  00:00  /System/Libra\n",
      "rorymclea  40773   0.1    4.3G   11.4M        runni  10:45  00:00  /System/Libra\n",
      "None\n"
     ]
    }
   ],
   "source": [
    "import psutil\n",
    "print(psutil.users())\n",
    "print(psutil.test())"
   ]
  },
  {
   "cell_type": "code",
   "execution_count": null,
   "id": "muslim-firmware",
   "metadata": {},
   "outputs": [],
   "source": []
  }
 ],
 "metadata": {
  "kernelspec": {
   "display_name": "Python 3",
   "language": "python",
   "name": "python3"
  },
  "language_info": {
   "codemirror_mode": {
    "name": "ipython",
    "version": 3
   },
   "file_extension": ".py",
   "mimetype": "text/x-python",
   "name": "python",
   "nbconvert_exporter": "python",
   "pygments_lexer": "ipython3",
   "version": "3.9.1"
  },
  "latex_envs": {
   "LaTeX_envs_menu_present": true,
   "autoclose": false,
   "autocomplete": true,
   "bibliofile": "biblio.bib",
   "cite_by": "apalike",
   "current_citInitial": 1,
   "eqLabelWithNumbers": true,
   "eqNumInitial": 1,
   "hotkeys": {
    "equation": "Ctrl-E",
    "itemize": "Ctrl-I"
   },
   "labels_anchors": false,
   "latex_user_defs": false,
   "report_style_numbering": false,
   "user_envs_cfg": false
  },
  "toc": {
   "base_numbering": 1,
   "nav_menu": {},
   "number_sections": true,
   "sideBar": true,
   "skip_h1_title": false,
   "title_cell": "Table of Contents",
   "title_sidebar": "Contents",
   "toc_cell": false,
   "toc_position": {},
   "toc_section_display": true,
   "toc_window_display": false
  },
  "varInspector": {
   "cols": {
    "lenName": 16,
    "lenType": 16,
    "lenVar": 40
   },
   "kernels_config": {
    "python": {
     "delete_cmd_postfix": "",
     "delete_cmd_prefix": "del ",
     "library": "var_list.py",
     "varRefreshCmd": "print(var_dic_list())"
    },
    "r": {
     "delete_cmd_postfix": ") ",
     "delete_cmd_prefix": "rm(",
     "library": "var_list.r",
     "varRefreshCmd": "cat(var_dic_list()) "
    }
   },
   "types_to_exclude": [
    "module",
    "function",
    "builtin_function_or_method",
    "instance",
    "_Feature"
   ],
   "window_display": false
  }
 },
 "nbformat": 4,
 "nbformat_minor": 5
}

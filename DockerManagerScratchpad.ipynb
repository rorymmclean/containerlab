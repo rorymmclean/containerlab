{
 "cells": [
  {
   "cell_type": "markdown",
   "metadata": {},
   "source": [
    "# Setup Steps"
   ]
  },
  {
   "cell_type": "code",
   "execution_count": 1,
   "metadata": {
    "ExecuteTime": {
     "end_time": "2021-03-03T14:31:48.204578Z",
     "start_time": "2021-03-03T14:31:48.055018Z"
    }
   },
   "outputs": [],
   "source": [
    "import docker\n",
    "import sqlite3\n",
    "client = docker.from_env()\n",
    "conn = sqlite3.connect('dockermgr.db')"
   ]
  },
  {
   "cell_type": "markdown",
   "metadata": {},
   "source": [
    "# Menu Steps"
   ]
  },
  {
   "cell_type": "code",
   "execution_count": null,
   "metadata": {},
   "outputs": [],
   "source": [
    "conn.execute('''CREATE TABLE APPS\n",
    "         (ID CHAR(10) PRIMARY KEY,\n",
    "         APPNAME        TEXT    NOT NULL,\n",
    "         DEFAULT_DUR    INT     NOT NULL,\n",
    "         NBR_PORTS      INT    NOT NULL,\n",
    "         MESSAGE        TEXT NOT NULL);''')"
   ]
  },
  {
   "cell_type": "code",
   "execution_count": 51,
   "metadata": {
    "ExecuteTime": {
     "end_time": "2021-02-26T23:28:32.271899Z",
     "start_time": "2021-02-26T23:28:32.267908Z"
    }
   },
   "outputs": [],
   "source": [
    "conn.execute(\"INSERT INTO APPS (ID,APPNAME,DEFAULT_DUR,STARTUP) \\\n",
    "      VALUES (null, 'MongoDB', 60, 'docker run -it -d -P --name mongodb mongodb:latest ')\")\n",
    "conn.commit()"
   ]
  },
  {
   "cell_type": "code",
   "execution_count": 52,
   "metadata": {
    "ExecuteTime": {
     "end_time": "2021-02-26T23:28:37.122394Z",
     "start_time": "2021-02-26T23:28:37.117634Z"
    }
   },
   "outputs": [
    {
     "name": "stdout",
     "output_type": "stream",
     "text": [
      "ID =  1\n",
      "Application =  NGINX\n",
      "Duration =  60\n",
      "Command =  docker run -it -d --name nginx -P nginx:latest \n",
      "\n",
      "ID =  2\n",
      "Application =  MongoDB\n",
      "Duration =  60\n",
      "Command =  docker run -it -d -P --name mongodb mongodb:latest  \n",
      "\n"
     ]
    }
   ],
   "source": [
    "app_cursor = conn.execute(\"SELECT id, appname, default_dur, startup from APPS\")\n",
    "for row in app_cursor:\n",
    "   print (\"ID = \", row[0])\n",
    "   print (\"Application = \", row[1])\n",
    "   print (\"Duration = \", row[2])\n",
    "   print (\"Command = \", row[3], \"\\n\")"
   ]
  },
  {
   "cell_type": "code",
   "execution_count": null,
   "metadata": {},
   "outputs": [],
   "source": []
  },
  {
   "cell_type": "markdown",
   "metadata": {},
   "source": [
    "# List Containers"
   ]
  },
  {
   "cell_type": "code",
   "execution_count": 64,
   "metadata": {
    "ExecuteTime": {
     "end_time": "2021-03-03T02:00:25.688233Z",
     "start_time": "2021-03-03T02:00:25.636268Z"
    }
   },
   "outputs": [
    {
     "name": "stdout",
     "output_type": "stream",
     "text": [
      "3457bb09d9\n",
      "Name = MongoExpress-LAB01K9TB\n",
      "Image = mongo-express\n",
      "Port = 55002\n",
      "55002\n",
      "fcb2da1d7c\n",
      "Name = Mongo-LAB01K9TB\n",
      "Image = poc2opslabs/lab01:latest\n",
      "Port = 55001\n",
      "55001\n",
      "aa4604cf7f\n",
      "Name = here\n",
      "Image = nginx\n",
      "Port = 55000\n",
      "55000\n",
      "55002\n",
      "55001\n",
      "55000\n",
      "N 59305\n"
     ]
    }
   ],
   "source": [
    "import pprint\n",
    "import random\n",
    "pp = pprint.PrettyPrinter(indent=2)\n",
    "\n",
    "cont_curr = client.containers.list()\n",
    "for row in cont_curr:\n",
    "#    print(row)\n",
    "    print(str(row)[12:-1])\n",
    "    container = client.containers.get(str(row)[12:-1])\n",
    "#    pp.pprint(container.attrs)\n",
    "    print('Name =',container.attrs['Name'][1:])\n",
    "    print('Image =',container.attrs['Config']['Image'])\n",
    "    ports = container.attrs['NetworkSettings']['Ports']\n",
    "    print('Port =', ports[list(ports.keys())[0]][0][\"HostPort\"])\n",
    "    print(ports[list(ports.keys())[0]][0][\"HostPort\"])\n",
    "    \n"
   ]
  },
  {
   "cell_type": "code",
   "execution_count": 66,
   "metadata": {
    "ExecuteTime": {
     "end_time": "2021-03-03T02:02:21.846548Z",
     "start_time": "2021-03-03T02:02:21.842112Z"
    }
   },
   "outputs": [],
   "source": [
    "def check_port(a):\n",
    "    checkflag = 'Y'\n",
    "    cont_curr = client.containers.list()\n",
    "    for row in cont_curr:\n",
    "        container = client.containers.get(str(row)[12:-1])\n",
    "        ports = container.attrs['NetworkSettings']['Ports']\n",
    "        portstr = ports[list(ports.keys())[0]][0][\"HostPort\"]\n",
    "        if portstr == str(yy):\n",
    "            checkflag='N'  \n",
    "    return checkflag"
   ]
  },
  {
   "cell_type": "code",
   "execution_count": 71,
   "metadata": {
    "ExecuteTime": {
     "end_time": "2021-03-03T02:03:29.561061Z",
     "start_time": "2021-03-03T02:03:29.528968Z"
    }
   },
   "outputs": [
    {
     "name": "stdout",
     "output_type": "stream",
     "text": [
      "Y 55004\n"
     ]
    }
   ],
   "source": [
    "yy=random.randint(55000,55005)\n",
    "print(check_port(yy), yy)  "
   ]
  },
  {
   "cell_type": "code",
   "execution_count": null,
   "metadata": {},
   "outputs": [],
   "source": []
  },
  {
   "cell_type": "code",
   "execution_count": null,
   "metadata": {},
   "outputs": [],
   "source": []
  },
  {
   "cell_type": "code",
   "execution_count": null,
   "metadata": {},
   "outputs": [],
   "source": []
  },
  {
   "cell_type": "markdown",
   "metadata": {},
   "source": [
    "# Managed Subscriptions"
   ]
  },
  {
   "cell_type": "code",
   "execution_count": 136,
   "metadata": {
    "ExecuteTime": {
     "end_time": "2021-02-27T00:41:55.679569Z",
     "start_time": "2021-02-27T00:41:55.673824Z"
    }
   },
   "outputs": [
    {
     "data": {
      "text/plain": [
       "<sqlite3.Cursor at 0x108e490a0>"
      ]
     },
     "execution_count": 136,
     "metadata": {},
     "output_type": "execute_result"
    }
   ],
   "source": [
    "conn.execute('''CREATE TABLE SUBSCRIPTION\n",
    "     (ID CHAR(20) PRIMARY KEY,\n",
    "      APPNAME      TEXT NOT NULL,\n",
    "      STARTTIME    DATETIME NOT NULL,\n",
    "      DEFAULT_DUR  INT NOT NULL,\n",
    "      MESSAGE.     TEXT NOT NULL);''')"
   ]
  },
  {
   "cell_type": "code",
   "execution_count": 174,
   "metadata": {
    "ExecuteTime": {
     "end_time": "2021-02-27T01:05:00.707051Z",
     "start_time": "2021-02-27T01:05:00.702981Z"
    }
   },
   "outputs": [],
   "source": [
    "conn.execute(\"INSERT INTO SUBSCRIPTION (ID,APPNAME,STARTTIME,DEFAULT_DUR) \\\n",
    "      VALUES ('2ede09df70b', 'NGINX', datetime('now'), 60)\")\n",
    "conn.commit()\n"
   ]
  },
  {
   "cell_type": "code",
   "execution_count": 184,
   "metadata": {
    "ExecuteTime": {
     "end_time": "2021-02-27T01:08:33.906761Z",
     "start_time": "2021-02-27T01:08:33.902677Z"
    }
   },
   "outputs": [],
   "source": [
    "app_cursor = conn.execute('''SELECT id, appname, starttime, default_dur from SUBSCRIPTION \n",
    "       where DATETIME('now') > DATETIME(starttime,\"+\"||default_dur||\" minute\");''')\n",
    "for row in app_cursor:\n",
    "    print (\"ID =          \", row[0])\n",
    "    print (\"Application = \", row[1])\n",
    "    print (\"Start Time =  \", row[2])\n",
    "    print (\"Duration =    \", row[3], \"\\n\")\n",
    "    conn.execute('DELETE from SUBSCRIPTION WHERE ID = \"'+row[0]+'\"' )\n",
    "conn.commit()"
   ]
  },
  {
   "cell_type": "code",
   "execution_count": 183,
   "metadata": {
    "ExecuteTime": {
     "end_time": "2021-02-27T01:08:18.750897Z",
     "start_time": "2021-02-27T01:08:18.746350Z"
    }
   },
   "outputs": [
    {
     "name": "stdout",
     "output_type": "stream",
     "text": [
      "ID =           2ede09df70b\n",
      "Application =  NGINX\n",
      "Start Time =   2021-02-27 01:05:00\n",
      "Duration =     60\n",
      "End Time =     2021-02-27 02:05:00\n",
      "Now =          2021-02-27 01:08:18 \n",
      "\n"
     ]
    }
   ],
   "source": [
    "app_cursor = conn.execute('''SELECT id, appname, starttime, default_dur, \n",
    "       DATETIME(starttime,\"+\"||default_dur||\" minute\") as endtime, DATETIME('now') as nowtime from SUBSCRIPTION \n",
    "       where DATETIME('now') <= DATETIME(starttime,\"+\"||default_dur||\" minute\");''')\n",
    "for row in app_cursor:\n",
    "    print (\"ID =          \", row[0])\n",
    "    print (\"Application = \", row[1])\n",
    "    print (\"Start Time =  \", row[2])\n",
    "    print (\"Duration =    \", row[3])\n",
    "    print (\"End Time =    \", row[4])\n",
    "    print (\"Now =         \", row[5], \"\\n\")\n"
   ]
  },
  {
   "cell_type": "code",
   "execution_count": null,
   "metadata": {},
   "outputs": [],
   "source": []
  },
  {
   "cell_type": "markdown",
   "metadata": {},
   "source": [
    "# Database Stuff"
   ]
  },
  {
   "cell_type": "code",
   "execution_count": 47,
   "metadata": {
    "ExecuteTime": {
     "end_time": "2021-02-26T23:20:43.539304Z",
     "start_time": "2021-02-26T23:20:43.533335Z"
    }
   },
   "outputs": [
    {
     "data": {
      "text/plain": [
       "<sqlite3.Cursor at 0x11246ece0>"
      ]
     },
     "execution_count": 47,
     "metadata": {},
     "output_type": "execute_result"
    }
   ],
   "source": [
    "conn.execute('''CREATE TABLE APPS\n",
    "         (ID INTEGER PRIMARY KEY AUTOINCREMENT,\n",
    "         APPNAME        TEXT    NOT NULL,\n",
    "         DEFAULT_DUR    INT     NOT NULL,\n",
    "         STARTUP        CHAR(2000) NOT NULL);''')"
   ]
  },
  {
   "cell_type": "code",
   "execution_count": 43,
   "metadata": {
    "ExecuteTime": {
     "end_time": "2021-02-26T23:19:46.667456Z",
     "start_time": "2021-02-26T23:19:46.664374Z"
    }
   },
   "outputs": [],
   "source": [
    "conn.close()"
   ]
  },
  {
   "cell_type": "markdown",
   "metadata": {},
   "source": [
    "# Other Stuff"
   ]
  },
  {
   "cell_type": "code",
   "execution_count": 9,
   "metadata": {
    "ExecuteTime": {
     "end_time": "2021-02-26T16:33:14.306410Z",
     "start_time": "2021-02-26T16:33:10.873426Z"
    }
   },
   "outputs": [
    {
     "data": {
      "text/plain": [
       "<Image: 'ubuntu:latest'>"
      ]
     },
     "execution_count": 9,
     "metadata": {},
     "output_type": "execute_result"
    }
   ],
   "source": [
    "client.images.pull('ubuntu')"
   ]
  },
  {
   "cell_type": "code",
   "execution_count": 10,
   "metadata": {
    "ExecuteTime": {
     "end_time": "2021-02-26T16:33:26.114716Z",
     "start_time": "2021-02-26T16:33:26.096069Z"
    }
   },
   "outputs": [
    {
     "data": {
      "text/plain": [
       "[<Image: 'nginx:latest'>, <Image: 'ubuntu:latest'>]"
      ]
     },
     "execution_count": 10,
     "metadata": {},
     "output_type": "execute_result"
    }
   ],
   "source": [
    "client.images.list()"
   ]
  },
  {
   "cell_type": "code",
   "execution_count": 11,
   "metadata": {
    "ExecuteTime": {
     "end_time": "2021-02-26T16:33:57.922876Z",
     "start_time": "2021-02-26T16:33:57.452502Z"
    }
   },
   "outputs": [
    {
     "data": {
      "text/plain": [
       "b'hello world\\n'"
      ]
     },
     "execution_count": 11,
     "metadata": {},
     "output_type": "execute_result"
    }
   ],
   "source": [
    "client.containers.run(\"ubuntu:latest\", \"echo hello world\")"
   ]
  },
  {
   "cell_type": "code",
   "execution_count": null,
   "metadata": {
    "ExecuteTime": {
     "end_time": "2021-02-26T16:40:03.993245Z",
     "start_time": "2021-02-26T16:39:05.365198Z"
    }
   },
   "outputs": [],
   "source": [
    "events = client.events()\n",
    "for event in events:\n",
    "    print(event)\n",
    "events.close()"
   ]
  },
  {
   "cell_type": "code",
   "execution_count": 32,
   "metadata": {
    "ExecuteTime": {
     "end_time": "2021-02-28T07:24:36.970668Z",
     "start_time": "2021-02-28T07:24:36.967033Z"
    }
   },
   "outputs": [
    {
     "name": "stdout",
     "output_type": "stream",
     "text": [
      "enabled\n"
     ]
    }
   ],
   "source": [
    "import psutil\n",
    "loadrate = float(list(psutil.getloadavg())[1])/float(psutil.cpu_count())\n",
    "if loadrate >= 1:\n",
    "    print('disabled')\n",
    "else:\n",
    "    print('enabled')\n",
    "\n",
    "#x = list(psutil.getloadavg())[1] \n",
    "#print(float(x))"
   ]
  },
  {
   "cell_type": "code",
   "execution_count": 42,
   "metadata": {
    "ExecuteTime": {
     "end_time": "2021-02-28T08:10:26.080439Z",
     "start_time": "2021-02-28T08:10:26.074892Z"
    }
   },
   "outputs": [
    {
     "name": "stdout",
     "output_type": "stream",
     "text": [
      "18.26Gb\n"
     ]
    }
   ],
   "source": [
    "import shutil\n",
    "print(str(round(list(shutil.disk_usage(\"/\"))[2]/(1024*1024*1024),2))+' gb')"
   ]
  },
  {
   "cell_type": "code",
   "execution_count": 46,
   "metadata": {
    "ExecuteTime": {
     "end_time": "2021-02-28T08:13:56.701969Z",
     "start_time": "2021-02-28T08:13:56.687123Z"
    }
   },
   "outputs": [
    {
     "data": {
      "text/plain": [
       "1"
      ]
     },
     "execution_count": 46,
     "metadata": {},
     "output_type": "execute_result"
    }
   ],
   "source": [
    "len(client.containers.list())"
   ]
  },
  {
   "cell_type": "code",
   "execution_count": 47,
   "metadata": {
    "ExecuteTime": {
     "end_time": "2021-02-28T08:15:05.279786Z",
     "start_time": "2021-02-28T08:15:05.243869Z"
    }
   },
   "outputs": [
    {
     "data": {
      "text/plain": [
       "2"
      ]
     },
     "execution_count": 47,
     "metadata": {},
     "output_type": "execute_result"
    }
   ],
   "source": [
    "len(client.images.list())"
   ]
  },
  {
   "cell_type": "code",
   "execution_count": 10,
   "metadata": {
    "ExecuteTime": {
     "end_time": "2021-02-28T23:40:27.983153Z",
     "start_time": "2021-02-28T23:40:27.978887Z"
    }
   },
   "outputs": [
    {
     "name": "stdout",
     "output_type": "stream",
     "text": [
      "MTIzNDU2Nw==\n"
     ]
    }
   ],
   "source": [
    "import base64\n",
    "\n",
    "data = 1234567\n",
    "\n",
    "# URL and Filename Safe Base64 Encoding\n",
    "urlSafeEncodedBytes = base64.urlsafe_b64encode(str(data).encode(\"utf-8\"))\n",
    "urlSafeEncodedStr = str(urlSafeEncodedBytes, \"utf-8\")\n",
    "\n",
    "print(urlSafeEncodedStr)"
   ]
  },
  {
   "cell_type": "code",
   "execution_count": 25,
   "metadata": {
    "ExecuteTime": {
     "end_time": "2021-02-28T23:57:33.479584Z",
     "start_time": "2021-02-28T23:57:33.475176Z"
    }
   },
   "outputs": [
    {
     "name": "stdout",
     "output_type": "stream",
     "text": [
      "The randomly generated string is : 9VDHCv\n"
     ]
    }
   ],
   "source": [
    "import string    \n",
    "import random  \n",
    "ran = ''.join(random.choices(string.ascii_uppercase + string.digits + string.ascii_lowercase, k = 6))    \n",
    "print(\"The randomly generated string is : \" + str(ran)) # print the random data "
   ]
  },
  {
   "cell_type": "code",
   "execution_count": 23,
   "metadata": {
    "ExecuteTime": {
     "end_time": "2021-02-28T23:56:58.300752Z",
     "start_time": "2021-02-28T23:56:58.296615Z"
    }
   },
   "outputs": [
    {
     "data": {
      "text/plain": [
       "56800235584"
      ]
     },
     "execution_count": 23,
     "metadata": {},
     "output_type": "execute_result"
    }
   ],
   "source": [
    "len(string.ascii_uppercase + string.digits + string.ascii_lowercase)**6"
   ]
  },
  {
   "cell_type": "code",
   "execution_count": 8,
   "metadata": {
    "ExecuteTime": {
     "end_time": "2021-03-02T21:42:09.393568Z",
     "start_time": "2021-03-02T21:42:09.382108Z"
    }
   },
   "outputs": [
    {
     "name": "stdout",
     "output_type": "stream",
     "text": [
      "The exit code was: 0\n",
      "/Users/rorymclean/notebooks\n",
      "\n"
     ]
    }
   ],
   "source": [
    "import subprocess\n",
    "\n",
    "list_files = subprocess.run([\"pwd\"], stdout=subprocess.PIPE)\n",
    "print(\"The exit code was: %d\" % list_files.returncode)\n",
    "print(list_files.stdout.decode('UTF-8'))"
   ]
  },
  {
   "cell_type": "code",
   "execution_count": null,
   "metadata": {
    "ExecuteTime": {
     "end_time": "2021-03-03T16:09:31.391733Z",
     "start_time": "2021-03-03T16:09:31.370564Z"
    }
   },
   "outputs": [],
   "source": [
    "import subprocess\n",
    "\n",
    "lablaunch = subprocess.run([\"./runlab.sh\", 'LAB01', 'XYZZY', '55555', '55556', '', '', ''], stdout=subprocess.PIPE)\n",
    "print(\"The exit code was: %d\" % lablaunch.returncode)\n",
    "print(list_lablaunchfiles.stdout.decode('UTF-8'))"
   ]
  },
  {
   "cell_type": "code",
   "execution_count": null,
   "metadata": {
    "ExecuteTime": {
     "end_time": "2021-03-02T21:54:12.210730Z",
     "start_time": "2021-03-02T21:53:37.269345Z"
    }
   },
   "outputs": [],
   "source": [
    "import subprocess\n",
    "\n",
    "list_dir = subprocess.Popen([\"sudo\", \"du\", \"-d\", \"1\", \"/Users/rorymclean/\"])\n",
    "print(list_dir.poll())\n",
    "print(list_dir.wait())\n",
    "print(list_dir.poll())\n",
    "print(list_dir.stdout.decode('UTF-8'))"
   ]
  },
  {
   "cell_type": "code",
   "execution_count": 13,
   "metadata": {
    "ExecuteTime": {
     "end_time": "2021-03-04T06:03:08.275446Z",
     "start_time": "2021-03-04T06:03:08.270498Z"
    }
   },
   "outputs": [
    {
     "name": "stdout",
     "output_type": "stream",
     "text": [
      "MtDWsOaRlWvE\n",
      "01350667426255675a330f37\n",
      "LAB01-456dyr\n"
     ]
    }
   ],
   "source": [
    "import onetimepad\n",
    "import random\n",
    "import string\n",
    " \n",
    "def random_string_generator(str_size, allowed_chars):\n",
    "    return ''.join(random.choice(allowed_chars) for x in range(str_size))\n",
    "\n",
    "chars = string.ascii_letters #+ string.punctuation\n",
    "clear_text = 'LAB01-456dyr'\n",
    "pad_text = random_string_generator(len(clear_text), chars)\n",
    "print(pad_text)\n",
    "cipher = onetimepad.encrypt(clear_text, pad_text)\n",
    "print(cipher)\n",
    "msg = onetimepad.decrypt(cipher, pad_text)\n",
    "print(msg)"
   ]
  },
  {
   "cell_type": "code",
   "execution_count": 5,
   "metadata": {
    "ExecuteTime": {
     "end_time": "2021-03-05T17:33:22.085548Z",
     "start_time": "2021-03-05T17:33:21.064531Z"
    }
   },
   "outputs": [
    {
     "name": "stdout",
     "output_type": "stream",
     "text": [
      "1\n",
      "1\n",
      "scputimes(user=4557.64, nice=27.11, system=762.79, idle=67004.67, iowait=2689.59, irq=0.0, softirq=55.75, steal=0.0, guest=0.0, guest_nice=0.0)\n",
      "(0.49, 0.38, 0.21)\n",
      "13.0\n"
     ]
    }
   ],
   "source": [
    "import psutil\n",
    "print(psutil.cpu_count())\n",
    "print(psutil.cpu_count(logical=False))\n",
    "print(psutil.cpu_times())\n",
    "print(psutil.getloadavg())\n",
    "print(psutil.cpu_percent(interval=1))\n",
    "#print(psutil.cpu_percent(interval=0, percpu=True))"
   ]
  },
  {
   "cell_type": "code",
   "execution_count": 2,
   "metadata": {
    "ExecuteTime": {
     "end_time": "2021-03-05T17:30:38.888707Z",
     "start_time": "2021-03-05T17:30:38.183352Z"
    }
   },
   "outputs": [
    {
     "name": "stdout",
     "output_type": "stream",
     "text": [
      "[suser(name='rmclean', terminal=':0', host='localhost', started=1614890240.0, pid=2219)]\n",
      "USER         PID  %MEM     VSZ     RSS  NICE STATUS  START   TIME  CMDLINE\n",
      "root           1   0.1  100.0M   11.5M        sleep  Mar04  09:31  /sbin/init splash\n",
      "root           2   0.0    0.0B    0.0B        sleep  Mar04  00:00  kthreadd\n",
      "root           3   0.0    0.0B    0.0B   -20   idle  Mar04  00:00  rcu_gp\n",
      "root           4   0.0    0.0B    0.0B   -20   idle  Mar04  00:00  rcu_par_gp\n",
      "root           8   0.0    0.0B    0.0B   -20   idle  Mar04  00:00  mm_percpu_wq\n",
      "root           9   0.0    0.0B    0.0B        sleep  Mar04  00:02  ksoftirqd/0\n",
      "root          10   0.0    0.0B    0.0B         idle  Mar04  00:23  rcu_sched\n",
      "root          11   0.0    0.0B    0.0B        sleep  Mar04  00:00  migration/0\n",
      "root          12   0.0    0.0B    0.0B        sleep  Mar04  00:00  idle_inject/0\n",
      "root          14   0.0    0.0B    0.0B        sleep  Mar04  00:00  cpuhp/0\n",
      "root          15   0.0    0.0B    0.0B        sleep  Mar04  00:00  kdevtmpfs\n",
      "root          16   0.0    0.0B    0.0B   -20   idle  Mar04  00:00  netns\n",
      "root          17   0.0    0.0B    0.0B        sleep  Mar04  00:00  rcu_tasks_kthre\n",
      "root          18   0.0    0.0B    0.0B        sleep  Mar04  00:00  kauditd\n",
      "root          19   0.0    0.0B    0.0B        sleep  Mar04  00:00  khungtaskd\n",
      "root          20   0.0    0.0B    0.0B        sleep  Mar04  00:00  oom_reaper\n",
      "root          21   0.0    0.0B    0.0B   -20   idle  Mar04  00:00  writeback\n",
      "root          22   0.0    0.0B    0.0B        sleep  Mar04  00:00  kcompactd0\n",
      "root          23   0.0    0.0B    0.0B     5  sleep  Mar04  00:00  ksmd\n",
      "root          24   0.0    0.0B    0.0B    19  sleep  Mar04  00:00  khugepaged\n",
      "root          70   0.0    0.0B    0.0B   -20   idle  Mar04  00:00  kintegrityd\n",
      "root          71   0.0    0.0B    0.0B   -20   idle  Mar04  00:00  kblockd\n",
      "root          72   0.0    0.0B    0.0B   -20   idle  Mar04  00:00  blkcg_punt_bio\n",
      "root          73   0.0    0.0B    0.0B   -20   idle  Mar04  00:00  tpm_dev_wq\n",
      "root          74   0.0    0.0B    0.0B   -20   idle  Mar04  00:00  ata_sff\n",
      "root          75   0.0    0.0B    0.0B   -20   idle  Mar04  00:00  md\n",
      "root          76   0.0    0.0B    0.0B   -20   idle  Mar04  00:00  edac-poller\n",
      "root          77   0.0    0.0B    0.0B   -20   idle  Mar04  00:00  devfreq_wq\n",
      "root          78   0.0    0.0B    0.0B        sleep  Mar04  00:00  watchdogd\n",
      "root          81   0.0    0.0B    0.0B        sleep  Mar04  00:00  kswapd0\n",
      "root          82   0.0    0.0B    0.0B        sleep  Mar04  00:00  ecryptfs-kthrea\n",
      "root          84   0.0    0.0B    0.0B   -20   idle  Mar04  00:00  kthrotld\n",
      "root          85   0.0    0.0B    0.0B   -20   idle  Mar04  00:00  acpi_thermal_pm\n",
      "root          86   0.0    0.0B    0.0B   -20   idle  Mar04  00:00  vfio-irqfd-clea\n",
      "root          88   0.0    0.0B    0.0B   -20   idle  Mar04  00:00  ipv6_addrconf\n",
      "root          97   0.0    0.0B    0.0B   -20   idle  Mar04  00:00  kstrp\n",
      "root         100   0.0    0.0B    0.0B   -20   idle  Mar04  00:00  kworker/u3:0\n",
      "root         115   0.0    0.0B    0.0B   -20   idle  Mar04  00:00  charger_manager\n",
      "root         162   0.0    0.0B    0.0B        sleep  Mar04  00:00  scsi_eh_0\n",
      "root         163   0.0    0.0B    0.0B   -20   idle  Mar04  00:00  scsi_tmf_0\n",
      "root         164   0.0    0.0B    0.0B        sleep  Mar04  00:00  scsi_eh_1\n",
      "root         165   0.0    0.0B    0.0B   -20   idle  Mar04  00:00  scsi_tmf_1\n",
      "root         166   0.0    0.0B    0.0B        sleep  Mar04  00:00  scsi_eh_2\n",
      "root         167   0.0    0.0B    0.0B   -20   idle  Mar04  00:00  scsi_tmf_2\n",
      "root         168   0.0    0.0B    0.0B        sleep  Mar04  00:00  scsi_eh_3\n",
      "root         169   0.0    0.0B    0.0B   -20   idle  Mar04  00:00  scsi_tmf_3\n",
      "root         170   0.0    0.0B    0.0B        sleep  Mar04  00:00  scsi_eh_4\n",
      "root         171   0.0    0.0B    0.0B   -20   idle  Mar04  00:00  scsi_tmf_4\n",
      "root         172   0.0    0.0B    0.0B        sleep  Mar04  00:00  scsi_eh_5\n",
      "root         173   0.0    0.0B    0.0B   -20   idle  Mar04  00:00  scsi_tmf_5\n",
      "root         183   0.0    0.0B    0.0B        sleep  Mar04  00:00  scsi_eh_6\n",
      "root         184   0.0    0.0B    0.0B   -20   idle  Mar04  00:00  scsi_tmf_6\n",
      "root         185   0.0    0.0B    0.0B        sleep  Mar04  00:03  usb-storage\n",
      "root         186   0.0    0.0B    0.0B   -20   idle  Mar04  00:00  uas\n",
      "root         205   0.0    0.0B    0.0B        sleep  Mar04  57:18  jbd2/sda2-8\n",
      "root         206   0.0    0.0B    0.0B   -20   idle  Mar04  00:00  ext4-rsv-conver\n",
      "root         245   0.3  106.5M   65.5M    -1  sleep  Mar04  00:22  /lib/systemd/systemd-journald\n",
      "root         281   0.0    0.0B    0.0B   -20  sleep  Mar04  00:01  loop0\n",
      "root         282   0.0    0.0B    0.0B   -20  sleep  Mar04  00:02  loop1\n",
      "root         283   0.0    0.0B    0.0B   -20  sleep  Mar04  00:03  loop2\n",
      "root         285   0.0    0.0B    0.0B   -20  sleep  Mar04  00:02  loop3\n",
      "root         288   0.0    0.0B    0.0B   -20  sleep  Mar04  00:01  loop4\n",
      "root         290   0.0    0.0B    0.0B   -20  sleep  Mar04  00:00  loop5\n",
      "root         292   0.0    0.0B    0.0B   -20  sleep  Mar04  00:01  loop6\n",
      "root         294   0.0    0.0B    0.0B   -20  sleep  Mar04  00:00  loop7\n",
      "root         296   0.0    0.0B    0.0B   -20  sleep  Mar04  00:01  loop8\n",
      "root         298   0.0    0.0B    0.0B   -20  sleep  Mar04  00:01  loop9\n",
      "root         301   0.0    0.0B    0.0B   -20  sleep  Mar04  00:00  loop10\n",
      "root         303   0.0   24.6M    8.5M        sleep  Mar04  00:17  /lib/systemd/systemd-udevd\n",
      "root         304   0.0    0.0B    0.0B   -20  sleep  Mar04  00:02  loop11\n",
      "root         305   0.0    0.0B    0.0B   -20  sleep  Mar04  00:02  loop12\n",
      "root         306   0.0    0.0B    0.0B   -20  sleep  Mar04  00:01  loop13\n",
      "root         331   0.0    0.0B    0.0B        sleep  Mar04  00:00  irq/36-mei_me\n",
      "root         366   0.0    0.0B    0.0B   -20   idle  Mar04  00:00  cryptd\n",
      "root         380   0.0    0.0B    0.0B   -20   idle  Mar04  00:00  ttm_swap\n",
      "systemd-r    610   0.1   23.9M   13.3M        sleep  Mar04  00:15  /lib/systemd/systemd-resolved\n",
      "systemd-t    611   0.0   88.3M    6.2M        sleep  Mar04  00:00  /lib/systemd/systemd-timesyncd\n",
      "root         648   0.0  232.9M    7.5M        sleep  Mar04  00:02  /usr/lib/accountsservice/accounts-daemon\n",
      "root         649   0.0    2.5M  720.0K        sleep  Mar04  00:00  /usr/sbin/acpid\n",
      "avahi        652   0.0    8.7M    4.2M        sleep  Mar04  00:03  avahi-daemon: running [rmclean-p6780t.local]\n",
      "root         653   0.0    9.4M    3.2M        sleep  Mar04  20:24  /usr/sbin/cron -f\n",
      "messagebu    655   0.0    9.9M    6.6M        sleep  Mar04  00:10  /usr/bin/dbus-daemon --system --address=systemd: --nofork --nopidfile --systemd-activation --syslog-only\n",
      "root         656   0.1  328.6M   20.1M        sleep  Mar04  00:14  /usr/sbin/NetworkManager --no-daemon\n",
      "root         663   0.1   38.7M   19.9M        sleep  Mar04  00:15  /usr/bin/python3 /usr/bin/networkd-dispatcher --run-startup-triggers\n",
      "root         665   0.1  235.7M   10.7M        sleep  Mar04  00:08  /usr/lib/policykit-1/polkitd --no-debug\n",
      "syslog       667   0.0  219.3M    4.8M        sleep  Mar04  00:02  /usr/sbin/rsyslogd -n -iNONE\n",
      "root         668   0.2  709.9M   32.1M        sleep  Mar04  00:18  /usr/lib/snapd/snapd\n",
      "root         669   0.0  230.1M    5.9M        sleep  Mar04  00:00  /usr/libexec/switcheroo-control\n",
      "root         670   0.0   16.8M    8.5M        sleep  Mar04  00:02  /lib/systemd/systemd-logind\n",
      "root         671   0.0  122.9M    9.7M        sleep  Mar04  00:04  /usr/sbin/thermald --no-daemon --dbus-enable\n",
      "root         672   0.1  384.1M   13.4M        sleep  Mar04  00:14  /usr/lib/udisks2/udisksd\n",
      "root         673   0.0   13.4M    4.7M        sleep  Mar04  00:02  /sbin/wpa_supplicant -u -s -O /run/wpa_supplicant\n",
      "avahi        675   0.0    8.4M  352.0K        sleep  Mar04  00:00  avahi-daemon: chroot helper\n",
      "colord       748   0.1  240.7M   14.5M        sleep  Mar04  00:07  /usr/libexec/colord\n",
      "root         752   0.1  115.6M   22.6M        sleep  Mar04  00:10  /usr/bin/python3 /usr/share/unattended-upgrades/unattended-upgrade-shutdown --wait-for-signal\n"
     ]
    },
    {
     "name": "stdout",
     "output_type": "stream",
     "text": [
      "root         762   0.1  234.4M   10.1M        sleep  Mar04  00:04  /usr/sbin/ModemManager --filter-policy=strict\n",
      "root         772   0.2  786.9M   48.8M        sleep  Mar04  05:48  /usr/bin/containerd\n",
      "root         782   0.0  234.1M    8.4M        sleep  Mar04  00:01  /usr/sbin/gdm3\n",
      "root         871   0.6  874.1M  113.1M        sleep  Mar04  00:53  /usr/bin/dockerd -H fd:// --containerd=/run/containerd/containerd.sock\n",
      "whoopsie     875   0.1  391.4M   15.4M        sleep  Mar04  00:02  /usr/bin/whoopsie -f\n",
      "kernoops     877   0.0   11.0M  444.0K        sleep  Mar04  00:01  /usr/sbin/kerneloops --test\n",
      "kernoops     879   0.0   11.0M  448.0K        sleep  Mar04  00:01  /usr/sbin/kerneloops\n",
      "rtkit        905   0.0  149.6M    3.1M     1  sleep  Mar04  00:00  /usr/libexec/rtkit-daemon\n",
      "root        1017   0.0  246.3M    9.5M        sleep  Mar04  00:00  /usr/lib/upower/upowerd\n",
      "root        1083   0.0    2.4M  576.0K        sleep  Mar04  00:00  bpfilter_umh\n",
      "root        2074   0.0  163.4M    9.3M        sleep  Mar04  00:00  gdm-session-worker [pam/gdm-password]\n",
      "rmclean     2113   0.1   19.1M   10.5M        sleep  Mar04  33:49  /lib/systemd/systemd --user\n",
      "rmclean     2115   0.0  101.3M    3.6M        sleep  Mar04  00:00  (sd-pam)\n",
      "rmclean     2121   0.1    2.2G   19.0M   -11  sleep  Mar04  00:01  /usr/bin/pulseaudio --daemonize=no --log-target=journal\n",
      "rmclean     2123   0.1  571.4M   23.8M    19  sleep  Mar04  00:02  /usr/libexec/tracker-miner-fs\n",
      "rmclean     2126   0.0    8.3M    5.5M        sleep  Mar04  00:00  /usr/bin/dbus-daemon --session --address=systemd: --nofork --nopidfile --systemd-activation --syslog-only\n",
      "rmclean     2142   0.0  306.1M    7.6M        sleep  Mar04  00:00  /usr/libexec/gvfsd\n",
      "rmclean     2147   0.0  369.5M    6.3M        sleep  Mar04  00:00  /usr/libexec/gvfsd-fuse /run/user/1000/gvfs -f -o big_writes\n",
      "rmclean     2154   0.0  306.9M    9.4M        sleep  Mar04  00:05  /usr/libexec/gvfs-udisks2-volume-monitor\n",
      "rmclean     2159   0.0  309.3M    7.4M        sleep  Mar04  00:01  /usr/libexec/gvfs-afc-volume-monitor\n",
      "rmclean     2164   0.0  230.3M    6.0M        sleep  Mar04  00:00  /usr/libexec/gvfs-goa-volume-monitor\n",
      "rmclean     2168   0.2  533.3M   36.0M        sleep  Mar04  00:00  /usr/libexec/goa-daemon\n",
      "rmclean     2175   0.0  307.4M    8.8M        sleep  Mar04  00:00  /usr/libexec/goa-identity-service\n",
      "rmclean     2181   0.0  230.2M    5.6M        sleep  Mar04  00:00  /usr/libexec/gvfs-mtp-volume-monitor\n",
      "rmclean     2185   0.0  232.5M    6.3M        sleep  Mar04  00:00  /usr/libexec/gvfs-gphoto2-volume-monitor\n",
      "rmclean     2192   0.0  234.6M    7.3M        sleep  Mar04  00:00  /usr/bin/gnome-keyring-daemon --daemonize --login\n",
      "rmclean     2219   0.0  160.2M    6.4M        sleep  Mar04  00:00  /usr/lib/gdm3/gdm-x-session --run-script env GNOME_SHELL_SESSION_MODE=ubuntu /usr/bin/gnome-session --systemd --session=ubuntu\n",
      "rmclean     2221   0.3  521.8M   67.6M        sleep  Mar04  01:11  /usr/lib/xorg/Xorg vt2 -displayfd 3 -auth /run/user/1000/gdm/Xauthority -background none -noreset -keeptty -verbose 3\n",
      "rmclean     2238   0.1  184.0M   13.8M        sleep  Mar04  00:01  /usr/libexec/gnome-session-binary --systemd --systemd --session=ubuntu\n",
      "rmclean     2305   0.0    5.9M  456.0K        sleep  Mar04  00:00  /usr/bin/ssh-agent /usr/bin/im-launch env GNOME_SHELL_SESSION_MODE=ubuntu /usr/bin/gnome-session --systemd --session=ubuntu\n",
      "rmclean     2326   0.0  298.3M    6.4M        sleep  Mar04  00:00  /usr/libexec/at-spi-bus-launcher\n",
      "rmclean     2331   0.0    7.4M    4.4M        sleep  Mar04  00:00  /usr/bin/dbus-daemon --config-file=/usr/share/defaults/at-spi2/accessibility.conf --nofork --print-address 3\n",
      "rmclean     2341   0.0   87.9M    4.3M        sleep  Mar04  00:00  /usr/libexec/gnome-session-ctl --monitor\n",
      "rmclean     2347   0.1  544.9M   15.4M        sleep  Mar04  00:01  /usr/libexec/gnome-session-binary --systemd-service --session=ubuntu\n",
      "rmclean     2364   1.2    3.5G  242.9M        sleep  Mar04  02:16  /usr/bin/gnome-shell\n",
      "rmclean     2391   0.0  303.9M    8.2M        sleep  Mar04  00:00  ibus-daemon --panel disable --xim\n",
      "rmclean     2395   0.0  231.0M    6.9M        sleep  Mar04  00:00  /usr/libexec/ibus-dconf\n",
      "rmclean     2396   0.2  269.2M   31.1M        sleep  Mar04  00:01  /usr/libexec/ibus-extension-gtk3\n",
      "rmclean     2400   0.1  193.3M   27.7M        sleep  Mar04  00:00  /usr/libexec/ibus-x11 --kill-daemon\n",
      "rmclean     2403   0.0  231.0M    7.0M        sleep  Mar04  00:00  /usr/libexec/ibus-portal\n",
      "rmclean     2413   0.0  159.0M    7.5M        sleep  Mar04  00:00  /usr/libexec/at-spi2-registryd --use-gnome-session\n",
      "rmclean     2418   0.1  567.5M   18.8M        sleep  Mar04  00:03  /usr/libexec/gnome-shell-calendar-server\n",
      "rmclean     2419   0.0  230.1M    4.4M        sleep  Mar04  00:00  /usr/libexec/xdg-permission-store\n",
      "rmclean     2433   0.1  661.3M   24.9M        sleep  Mar04  00:01  /usr/libexec/evolution-source-registry\n",
      "rmclean     2443   0.1  707.2M   29.9M        sleep  Mar04  00:02  /usr/libexec/evolution-calendar-factory\n",
      "rmclean     2447   0.1    2.5G   25.7M        sleep  Mar04  00:00  /usr/bin/gjs /usr/share/gnome-shell/org.gnome.Shell.Notifications\n",
      "rmclean     2456   0.0  302.4M    6.3M        sleep  Mar04  00:00  /usr/libexec/gsd-a11y-settings\n",
      "rmclean     2457   0.1  565.0M   29.5M        sleep  Mar04  00:00  /usr/libexec/gsd-color\n",
      "rmclean     2458   0.1  364.8M   15.6M        sleep  Mar04  00:00  /usr/libexec/gsd-datetime\n",
      "rmclean     2459   0.0  304.5M    7.4M        sleep  Mar04  00:02  /usr/libexec/gsd-housekeeping\n",
      "rmclean     2460   0.1  410.0M   28.1M        sleep  Mar04  00:00  /usr/libexec/gsd-keyboard\n",
      "rmclean     2461   0.2  880.3M   30.6M        sleep  Mar04  00:00  /usr/libexec/gsd-media-keys\n",
      "rmclean     2463   0.1  338.7M   28.9M        sleep  Mar04  00:00  /usr/libexec/gsd-power\n",
      "rmclean     2465   0.1  242.6M   11.2M        sleep  Mar04  00:00  /usr/libexec/gsd-print-notifications\n",
      "rmclean     2472   0.0  446.4M    6.0M        sleep  Mar04  00:00  /usr/libexec/gsd-rfkill\n",
      "rmclean     2477   0.0  230.0M    5.8M        sleep  Mar04  00:00  /usr/libexec/gsd-screensaver-proxy\n",
      "rmclean     2482   0.1  453.8M   10.1M        sleep  Mar04  00:00  /usr/libexec/gsd-sharing\n",
      "rmclean     2484   0.0  379.7M    8.2M        sleep  Mar04  00:00  /usr/libexec/gsd-smartcard\n",
      "rmclean     2489   0.0  311.8M    8.9M        sleep  Mar04  00:00  /usr/libexec/gsd-sound\n",
      "rmclean     2494   0.0  447.9M    7.1M        sleep  Mar04  00:00  /usr/libexec/gsd-usb-protection\n",
      "rmclean     2495   0.1  337.3M   27.6M        sleep  Mar04  00:00  /usr/libexec/gsd-wacom\n",
      "rmclean     2502   0.0  378.6M    7.6M        sleep  Mar04  00:00  /usr/libexec/gsd-wwan\n",
      "rmclean     2506   0.1  338.5M   29.1M        sleep  Mar04  00:00  /usr/libexec/gsd-xsettings\n",
      "rmclean     2513   0.0  158.9M    6.9M        sleep  Mar04  00:00  /usr/libexec/ibus-engine-simple\n",
      "rmclean     2529   0.0  226.4M    5.7M        sleep  Mar04  00:00  /usr/libexec/gsd-disk-utility-notify\n",
      "rmclean     2551   0.0  306.6M    7.9M        sleep  Mar04  00:01  /usr/libexec/gvfsd-trash --spawner :1.3 /org/gtk/gvfs/exec_spaw/0\n",
      "rmclean     2553   0.3  696.0M   59.6M        sleep  Mar04  00:02  /usr/libexec/evolution-data-server/evolution-alarm-notify\n",
      "rmclean     2588   0.1  334.2M   14.6M        sleep  Mar04  00:00  /usr/libexec/gsd-printer\n",
      "rmclean     2597   2.5    1.4G  507.8M        sleep  Mar04  00:24  /snap/snap-store/518/usr/bin/snap-store --gapplication-service\n",
      "rmclean     2614   0.0  446.8M    6.2M        sleep  Mar04  00:00  /usr/libexec/xdg-document-portal\n",
      "rmclean     2632   0.0  152.7M    5.7M        sleep  Mar04  00:00  /usr/libexec/dconf-service\n",
      "rmclean     2641   0.1  665.7M   29.1M        sleep  Mar04  00:00  /usr/libexec/evolution-addressbook-factory\n",
      "rmclean     4495   0.0  158.5M    6.1M        sleep  Mar04  00:00  /usr/libexec/gvfsd-metadata\n",
      "rmclean     4498   0.2  482.8M   31.1M        sleep  Mar04  00:09  update-notifier\n",
      "rmclean     4991   0.1   19.9M   11.3M        sleep  Mar04  00:04  python3 cleanup.py\n",
      "rmclean    10910   0.2  457.3M   43.5M        sleep  Mar04  00:00  /usr/bin/seahorse --gapplication-service\n",
      "rmclean    11114   0.2  665.0M   37.2M        sleep  Mar04  13:10  python3 web.py\n"
     ]
    },
    {
     "name": "stdout",
     "output_type": "stream",
     "text": [
      "rmclean    11881   0.3  798.5M   52.1M        sleep  Mar04  00:06  /usr/libexec/gnome-terminal-server\n",
      "rmclean    11889   0.0   11.0M    5.5M        sleep  Mar04  00:01  bash\n",
      "root       14028   0.0   28.1M    9.5M        sleep  00:00  00:00  /usr/sbin/cupsd -l\n",
      "root       14029   0.1  176.6M   12.2M        sleep  00:00  00:00  /usr/sbin/cups-browsed\n",
      "root       24389   0.0    0.0B    0.0B         idle  04:08  00:35  kworker/u2:0-events_power_efficient\n",
      "root       61607   0.0    0.0B    0.0B         idle  06:24  00:28  kworker/u2:4-events_power_efficient\n",
      "root       63228   0.0    0.0B    0.0B         idle  09:31  00:13  kworker/u2:2-events_freezable_power_\n",
      "root       64979   0.0    0.0B    0.0B         idle  09:57  00:11  kworker/u2:5-events_power_efficient\n",
      "rmclean    65015   2.3    3.7G  457.0M        sleep  10:04  01:06  /usr/lib/firefox/firefox -new-window\n",
      "rmclean    65072   0.7    2.3G  135.3M        sleep  10:04  00:08  /usr/lib/firefox/firefox -contentproc -childID 1 -isForBrowser -prefsLen 1 -prefMapSize 234961 -parentBuildID 20210222142601 -appdir /u\n",
      "root       65089   0.0    0.0B    0.0B   -20   idle  10:04  00:00  kworker/0:2H-kblockd\n",
      "rmclean    65115   0.6    2.3G  110.4M        sleep  10:04  00:02  /usr/lib/firefox/firefox -contentproc -childID 2 -isForBrowser -prefsLen 6370 -prefMapSize 234961 -parentBuildID 20210222142601 -appdir\n",
      "rmclean    65168   0.7    2.3G  136.3M        sleep  10:04  00:06  /usr/lib/firefox/firefox -contentproc -childID 3 -isForBrowser -prefsLen 9356 -prefMapSize 234961 -parentBuildID 20210222142601 -appdir\n",
      "rmclean    65222   0.7    2.4G  140.1M        sleep  10:05  00:03  /usr/lib/firefox/firefox -contentproc -childID 5 -isForBrowser -prefsLen 9978 -prefMapSize 234961 -parentBuildID 20210222142601 -appdir\n",
      "root       65407   0.0    0.0B    0.0B         idle  10:15  00:00  kworker/0:1-events\n",
      "root       66033   0.0    0.0B    0.0B         idle  12:20  00:01  kworker/u2:1-events_freezable_power_\n",
      "root       66045   0.0    0.0B    0.0B         idle  12:20  00:00  kworker/0:0-cgroup_destroy\n",
      "root       66080   0.0    0.0B    0.0B   -20   idle  12:21  00:00  kworker/0:1H-kblockd\n",
      "root       66248   0.0  464.2M    3.9M        sleep  12:23  00:00  /usr/bin/docker-proxy -proto tcp -host-ip 0.0.0.0 -host-port 59614 -container-ip 172.31.0.2 -container-port 27017\n",
      "root       66254   0.0  106.2M    5.2M        sleep  12:23  00:00  containerd-shim -namespace moby -workdir /var/lib/containerd/io.containerd.runtime.v1.linux/moby/30366e1ac8ee6474acb7dfd8ee9294517875b4\n",
      "999        66271   0.5    1.5G  102.4M        sleep  12:23  00:04  mongod --bind_ip_all\n",
      "root       66352   0.0  464.2M    3.9M        sleep  12:23  00:00  /usr/bin/docker-proxy -proto tcp -host-ip 0.0.0.0 -host-port 58334 -container-ip 172.31.0.3 -container-port 8081\n",
      "root       66360   0.0  106.2M    5.2M        sleep  12:23  00:00  containerd-shim -namespace moby -workdir /var/lib/containerd/io.containerd.runtime.v1.linux/moby/66eed494b64ef5f2644b633eb44af17b48f2e8\n",
      "root       66377   0.0  776.0K    4.0K        sleep  12:23  00:00  tini -- /docker-entrypoint.sh mongo-express\n",
      "root       66426   0.3  294.4M   63.6M        sleep  12:23  00:00  node app\n",
      "rmclean    66514   1.4    2.6G  270.8M        sleep  12:23  00:15  /usr/lib/firefox/firefox -contentproc -childID 8 -isForBrowser -prefsLen 11086 -prefMapSize 234961 -parentBuildID 20210222142601 -appdi\n",
      "root       66556   0.0    0.0B    0.0B         idle  12:25  00:00  kworker/u2:3-events_power_efficient\n",
      "root       66570   0.0    0.0B    0.0B   -20   idle  12:26  00:00  kworker/0:0H-radeon-crtc\n",
      "rmclean    66573   0.7    2.3G  138.9M        sleep  12:26  00:01  /usr/lib/firefox/firefox -contentproc -childID 9 -isForBrowser -prefsLen 11145 -prefMapSize 234961 -parentBuildID 20210222142601 -appdi\n",
      "rmclean    66625   0.4  258.0M   73.3M        runni  12:29  00:02  /usr/bin/python3 /home/rmclean/.local/bin/jupyter-notebook\n",
      "rmclean    66761   1.2    2.5G  247.2M        runni  12:29  00:06  /usr/lib/firefox/firefox -contentproc -childID 11 -isForBrowser -prefsLen 11145 -prefMapSize 234961 -parentBuildID 20210222142601 -appd\n",
      "rmclean    66790   0.4    2.3G   81.6M        sleep  12:29  00:00  /usr/lib/firefox/firefox -contentproc -childID 12 -isForBrowser -prefsLen 11145 -prefMapSize 234961 -parentBuildID 20210222142601 -appd\n",
      "rmclean    66813   0.2  539.4M   49.9M        runni  12:29  00:00  /usr/bin/python3 -m ipykernel_launcher -f /home/rmclean/.local/share/jupyter/runtime/kernel-3afe5aab-a07d-408e-abbd-771ae928e2c8.json\n",
      "root       66844   0.0    0.0B    0.0B         idle  12:30  00:00  kworker/0:2\n",
      "None\n"
     ]
    }
   ],
   "source": [
    "import psutil\n",
    "print(psutil.users())\n",
    "print(psutil.test())"
   ]
  },
  {
   "cell_type": "code",
   "execution_count": null,
   "metadata": {},
   "outputs": [],
   "source": []
  }
 ],
 "metadata": {
  "hide_input": false,
  "kernelspec": {
   "display_name": "Python 3",
   "language": "python",
   "name": "python3"
  },
  "language_info": {
   "codemirror_mode": {
    "name": "ipython",
    "version": 3
   },
   "file_extension": ".py",
   "mimetype": "text/x-python",
   "name": "python",
   "nbconvert_exporter": "python",
   "pygments_lexer": "ipython3",
   "version": "3.8.5"
  },
  "latex_envs": {
   "LaTeX_envs_menu_present": true,
   "autoclose": false,
   "autocomplete": true,
   "bibliofile": "biblio.bib",
   "cite_by": "apalike",
   "current_citInitial": 1,
   "eqLabelWithNumbers": true,
   "eqNumInitial": 1,
   "hotkeys": {
    "equation": "Ctrl-E",
    "itemize": "Ctrl-I"
   },
   "labels_anchors": false,
   "latex_user_defs": false,
   "report_style_numbering": false,
   "user_envs_cfg": false
  },
  "toc": {
   "base_numbering": 1,
   "nav_menu": {},
   "number_sections": true,
   "sideBar": true,
   "skip_h1_title": false,
   "title_cell": "Table of Contents",
   "title_sidebar": "Contents",
   "toc_cell": false,
   "toc_position": {},
   "toc_section_display": true,
   "toc_window_display": false
  },
  "varInspector": {
   "cols": {
    "lenName": 16,
    "lenType": 16,
    "lenVar": 40
   },
   "kernels_config": {
    "python": {
     "delete_cmd_postfix": "",
     "delete_cmd_prefix": "del ",
     "library": "var_list.py",
     "varRefreshCmd": "print(var_dic_list())"
    },
    "r": {
     "delete_cmd_postfix": ") ",
     "delete_cmd_prefix": "rm(",
     "library": "var_list.r",
     "varRefreshCmd": "cat(var_dic_list()) "
    }
   },
   "types_to_exclude": [
    "module",
    "function",
    "builtin_function_or_method",
    "instance",
    "_Feature"
   ],
   "window_display": false
  }
 },
 "nbformat": 4,
 "nbformat_minor": 5
}
